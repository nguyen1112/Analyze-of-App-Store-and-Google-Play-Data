{
 "cells": [
  {
   "cell_type": "markdown",
   "metadata": {},
   "source": [
    "# Profitable App Profiles for the App Store and Google Play Markes\n",
    "\n",
    "Our aims for this project is to find out which type of apps are likely to attract the most users on the plateform to engage with the app. In term we will find out what influenced users to engage with ads inside an apps inorder to help us generate the most revenue from it. \n",
    "\n",
    "So our data is collected over September 2018 and there were approximately 2 million iOS apps avaliable on the App Store, and 2.1 million Android apps on Google Play that we can use in our model to analysis what make users engage in these apps.\n"
   ]
  },
  {
   "cell_type": "code",
   "execution_count": 1,
   "metadata": {
    "scrolled": true
   },
   "outputs": [],
   "source": [
    "from csv import reader\n",
    "\n",
    "### Using the function below to insert data set from googleplay ###\n",
    "\n",
    "opened_file = open('googleplaystore.csv', encoding=\"utf8\")\n",
    "read_file = reader(opened_file)\n",
    "android = list(read_file)\n",
    "android_header = android[0]\n",
    "android = android[1:]\n"
   ]
  },
  {
   "cell_type": "code",
   "execution_count": 2,
   "metadata": {
    "scrolled": true
   },
   "outputs": [],
   "source": [
    "### Using the function below to insert data set from appstore ###\n",
    "\n",
    "opened_file = open('AppleStore.csv', encoding=\"utf8\")\n",
    "read_file = reader(opened_file)\n",
    "ios = list(read_file)\n",
    "ios_header = ios[0]\n",
    "ios = ios[1:]"
   ]
  },
  {
   "cell_type": "code",
   "execution_count": 3,
   "metadata": {},
   "outputs": [],
   "source": [
    "def explore_data(dataset, start, end, rows_and_columns=False):\n",
    "    dataset_slice = dataset[start:end]\n",
    "    for row in dataset_slice:\n",
    "        print(row)\n",
    "        print('\\n') # adds a new (empty) line after each row\n",
    "        \n",
    "    if rows_and_columns:\n",
    "        print(\"Number of Rows:\", len(dataset))\n",
    "        print(\"Number of Columns:\", len(dataset[0]))\n",
    "        "
   ]
  },
  {
   "cell_type": "code",
   "execution_count": 4,
   "metadata": {},
   "outputs": [
    {
     "name": "stdout",
     "output_type": "stream",
     "text": [
      "['App', 'Category', 'Rating', 'Reviews', 'Size', 'Installs', 'Type', 'Price', 'Content Rating', 'Genres', 'Last Updated', 'Current Ver', 'Android Ver']\n",
      "\n",
      "\n",
      "['Photo Editor & Candy Camera & Grid & ScrapBook', 'ART_AND_DESIGN', '4.1', '159', '19M', '10,000+', 'Free', '0', 'Everyone', 'Art & Design', 'January 7, 2018', '1.0.0', '4.0.3 and up']\n",
      "\n",
      "\n",
      "['Coloring book moana', 'ART_AND_DESIGN', '3.9', '967', '14M', '500,000+', 'Free', '0', 'Everyone', 'Art & Design;Pretend Play', 'January 15, 2018', '2.0.0', '4.0.3 and up']\n",
      "\n",
      "\n",
      "['U Launcher Lite – FREE Live Cool Themes, Hide Apps', 'ART_AND_DESIGN', '4.7', '87510', '8.7M', '5,000,000+', 'Free', '0', 'Everyone', 'Art & Design', 'August 1, 2018', '1.2.4', '4.0.3 and up']\n",
      "\n",
      "\n",
      "Number of Rows: 10841\n",
      "Number of Columns: 13\n"
     ]
    }
   ],
   "source": [
    "print(android_header)\n",
    "print(\"\\n\")\n",
    "explore_data(android, 0, 3, True)\n"
   ]
  },
  {
   "cell_type": "code",
   "execution_count": 5,
   "metadata": {},
   "outputs": [
    {
     "name": "stdout",
     "output_type": "stream",
     "text": [
      "['id', 'track_name', 'size_bytes', 'currency', 'price', 'rating_count_tot', 'rating_count_ver', 'user_rating', 'user_rating_ver', 'ver', 'cont_rating', 'prime_genre', 'sup_devices.num', 'ipadSc_urls.num', 'lang.num', 'vpp_lic']\n",
      "\n",
      "\n",
      "['284882215', 'Facebook', '389879808', 'USD', '0.0', '2974676', '212', '3.5', '3.5', '95.0', '4+', 'Social Networking', '37', '1', '29', '1']\n",
      "\n",
      "\n",
      "['389801252', 'Instagram', '113954816', 'USD', '0.0', '2161558', '1289', '4.5', '4.0', '10.23', '12+', 'Photo & Video', '37', '0', '29', '1']\n",
      "\n",
      "\n",
      "['529479190', 'Clash of Clans', '116476928', 'USD', '0.0', '2130805', '579', '4.5', '4.5', '9.24.12', '9+', 'Games', '38', '5', '18', '1']\n",
      "\n",
      "\n",
      "Number of Rows: 7197\n",
      "Number of Columns: 16\n"
     ]
    }
   ],
   "source": [
    "print(ios_header)\n",
    "print(\"\\n\")\n",
    "explore_data(ios, 0, 3, True)"
   ]
  },
  {
   "cell_type": "markdown",
   "metadata": {},
   "source": [
    "# This section is use to clean up the data that we are use to analyze"
   ]
  },
  {
   "cell_type": "code",
   "execution_count": 6,
   "metadata": {},
   "outputs": [
    {
     "name": "stdout",
     "output_type": "stream",
     "text": [
      "['App', 'Category', 'Rating', 'Reviews', 'Size', 'Installs', 'Type', 'Price', 'Content Rating', 'Genres', 'Last Updated', 'Current Ver', 'Android Ver']\n",
      "\n",
      "\n",
      "['Life Made WI-Fi Touchscreen Photo Frame', '1.9', '19', '3.0M', '1,000+', 'Free', '0', 'Everyone', '', 'February 11, 2018', '1.0.19', '4.0 and up']\n",
      "\n",
      "\n",
      "['Photo Editor & Candy Camera & Grid & ScrapBook', 'ART_AND_DESIGN', '4.1', '159', '19M', '10,000+', 'Free', '0', 'Everyone', 'Art & Design', 'January 7, 2018', '1.0.0', '4.0.3 and up']\n"
     ]
    }
   ],
   "source": [
    "print(android_header)\n",
    "print(\"\\n\")\n",
    "print(android[10472])\n",
    "print(\"\\n\")\n",
    "print(android[0])\n"
   ]
  },
  {
   "cell_type": "markdown",
   "metadata": {},
   "source": [
    "The row 10472 contains to the app life Made WI-FI Touchscreen Photo Frame, and we can see that the rating is 19. This is an off from the rest of the data the highest rating is 5."
   ]
  },
  {
   "cell_type": "code",
   "execution_count": 7,
   "metadata": {},
   "outputs": [
    {
     "name": "stdout",
     "output_type": "stream",
     "text": [
      "10841\n",
      "10840\n"
     ]
    }
   ],
   "source": [
    "print(len(android))\n",
    "del android[10472] # only run this function one\n",
    "print(len(android))\n"
   ]
  },
  {
   "cell_type": "markdown",
   "metadata": {},
   "source": [
    "# This section we will looking into clearning any duplicate in the data"
   ]
  },
  {
   "cell_type": "code",
   "execution_count": 8,
   "metadata": {},
   "outputs": [
    {
     "name": "stdout",
     "output_type": "stream",
     "text": [
      "['Instagram', 'SOCIAL', '4.5', '66577313', 'Varies with device', '1,000,000,000+', 'Free', '0', 'Teen', 'Social', 'July 31, 2018', 'Varies with device', 'Varies with device']\n",
      "['Instagram', 'SOCIAL', '4.5', '66577446', 'Varies with device', '1,000,000,000+', 'Free', '0', 'Teen', 'Social', 'July 31, 2018', 'Varies with device', 'Varies with device']\n",
      "['Instagram', 'SOCIAL', '4.5', '66577313', 'Varies with device', '1,000,000,000+', 'Free', '0', 'Teen', 'Social', 'July 31, 2018', 'Varies with device', 'Varies with device']\n",
      "['Instagram', 'SOCIAL', '4.5', '66509917', 'Varies with device', '1,000,000,000+', 'Free', '0', 'Teen', 'Social', 'July 31, 2018', 'Varies with device', 'Varies with device']\n"
     ]
    }
   ],
   "source": [
    "for app in android: \n",
    "    name = app[0]\n",
    "    if name == 'Instagram':\n",
    "        print(app)"
   ]
  },
  {
   "cell_type": "code",
   "execution_count": 9,
   "metadata": {},
   "outputs": [
    {
     "name": "stdout",
     "output_type": "stream",
     "text": [
      "Number of duplicate apps: 1181\n",
      "\n",
      "\n",
      "Examples of duplicate apps: ['Quick PDF Scanner + OCR FREE', 'Box', 'Google My Business', 'ZOOM Cloud Meetings', 'join.me - Simple Meetings', 'Box', 'Zenefits', 'Google Ads', 'Google My Business', 'Slack', 'FreshBooks Classic', 'Insightly CRM', 'QuickBooks Accounting: Invoicing & Expenses', 'HipChat - Chat Built for Teams', 'Xero Accounting Software']\n",
      "\n",
      "\n",
      "Number of Unique_apps: 9659\n"
     ]
    }
   ],
   "source": [
    "duplicate_apps = []\n",
    "unique_apps = []\n",
    "\n",
    "for app in android:\n",
    "    name = app[0]\n",
    "    if name in unique_apps:\n",
    "        duplicate_apps.append(name)\n",
    "    else:\n",
    "        unique_apps.append(name)\n",
    "        \n",
    "print(\"Number of duplicate apps:\", len(duplicate_apps))\n",
    "print(\"\\n\")\n",
    "print(\"Examples of duplicate apps:\", duplicate_apps[:15])\n",
    "print(\"\\n\")\n",
    "print(\"Number of Unique_apps:\", len(unique_apps))"
   ]
  },
  {
   "cell_type": "code",
   "execution_count": 10,
   "metadata": {},
   "outputs": [
    {
     "name": "stdout",
     "output_type": "stream",
     "text": [
      "True\n",
      "False\n",
      "False\n",
      "True\n"
     ]
    }
   ],
   "source": [
    "app_names = [\"Instagram\", \"Facebook\"]\n",
    "\n",
    "print(\"Instagram\" in app_names)\n",
    "print(\"Twitter\" in app_names)\n",
    "print(232 in app_names)\n",
    "print(\"Facebook\" in app_names)"
   ]
  },
  {
   "cell_type": "code",
   "execution_count": 11,
   "metadata": {},
   "outputs": [],
   "source": [
    "def duplicate_entries_count(dataset,n):\n",
    "    duplicate_apps = []\n",
    "    unique_apps = []\n",
    "    duplicate_entries_freq={}\n",
    "    for row in dataset:\n",
    "        name=row[n]\n",
    "        if name in unique_apps:\n",
    "            duplicate_apps.append(name)\n",
    "        else:\n",
    "            unique_apps.append(name)\n",
    "    for name in duplicate_apps:    \n",
    "        if name in duplicate_entries_freq:\n",
    "            duplicate_entries_freq[name]+=1\n",
    "        else:\n",
    "            duplicate_entries_freq[name]=1\n",
    "       \n",
    "    print('Number of duplicate apps:', len(duplicate_apps))\n",
    "        \n",
    "    print(\"\\n\")\n",
    "        \n",
    "    print('Number of unique_apps:', len(unique_apps))\n",
    "        \n",
    "    print(\"\\n\")\n",
    "        \n",
    "    print('Duplicate Entries Frequency Table:', duplicate_entries_freq)\n",
    "        \n",
    "        \n",
    "        \n",
    "    \n",
    "    "
   ]
  },
  {
   "cell_type": "code",
   "execution_count": 12,
   "metadata": {},
   "outputs": [
    {
     "name": "stdout",
     "output_type": "stream",
     "text": [
      "Number of duplicate apps: 1181\n",
      "\n",
      "\n",
      "Number of unique_apps: 9659\n",
      "\n",
      "\n",
      "Duplicate Entries Frequency Table: {'Quick PDF Scanner + OCR FREE': 2, 'Box': 2, 'Google My Business': 2, 'ZOOM Cloud Meetings': 1, 'join.me - Simple Meetings': 2, 'Zenefits': 1, 'Google Ads': 2, 'Slack': 2, 'FreshBooks Classic': 1, 'Insightly CRM': 1, 'QuickBooks Accounting: Invoicing & Expenses': 2, 'HipChat - Chat Built for Teams': 1, 'Xero Accounting Software': 1, 'MailChimp - Email, Marketing Automation': 1, 'Crew - Free Messaging and Scheduling': 1, 'Asana: organize team projects': 1, 'Google Analytics': 1, 'AdWords Express': 1, 'Accounting App - Zoho Books': 1, 'Invoice & Time Tracking - Zoho': 1, 'Invoice 2go — Professional Invoices and Estimates': 1, 'SignEasy | Sign and Fill PDF and other Documents': 1, 'Genius Scan - PDF Scanner': 1, 'Tiny Scanner - PDF Scanner App': 1, 'Fast Scanner : Free PDF Scan': 1, 'Mobile Doc Scanner (MDScan) Lite': 1, 'TurboScan: scan documents and receipts in PDF': 1, 'Tiny Scanner Pro: PDF Doc Scan': 1, 'Docs To Go™ Free Office Suite': 1, 'OfficeSuite : Free Office + PDF Editor': 1, 'WhatsApp Messenger': 2, 'Messenger – Text and Video Chat for Free': 2, 'imo free video calls and chat': 3, 'Viber Messenger': 4, 'Hangouts': 3, 'WeChat': 3, 'Telegram': 2, 'Who': 1, 'Google Voice': 2, 'Android Messages': 1, 'Firefox Focus: The privacy browser': 2, 'Google Allo': 2, 'Google Chrome: Fast & Secure': 2, 'Firefox Browser fast & private': 2, 'Puffin Web Browser': 2, 'Opera Browser: Fast and Secure': 2, 'Opera Mini - fast web browser': 2, 'UC Browser Mini -Tiny Fast Private & Secure': 2, 'UC Browser - Fast Download Private & Secure': 2, 'Calls & Text by Mo+': 1, 'Call Blocker': 1, 'Gmail': 2, 'Yahoo Mail – Stay Organized': 2, 'free video calls and chat': 2, 'Skype - free IM & video calls': 2, 'Glide - Video Chat Messenger': 1, 'Talkray - Free Calls & Texts': 1, 'LINE: Free Calls & Messages': 2, 'KakaoTalk: Free Calls & Text': 2, 'OkCupid Dating': 2, 'CMB Free Dating App': 1, 'Hily: Dating, Chat, Match, Meet & Hook up': 2, 'Hinge: Dating & Relationships': 1, 'BBW Dating & Plus Size Chat': 2, 'Casual Dating & Adult Singles - Joyride': 1, 'EliteSingles – Dating for Single Professionals': 1, 'Clover Dating App': 1, 'Moco - Chat, Meet People': 2, 'Hot or Not - Find someone right now': 2, 'Just She - Top Lesbian Dating': 2, 'Once - Quality Matches Every day': 1, 'Sudy – Meet Elite & Rich Single': 1, 'muzmatch: Muslim & Arab Singles, Marriage & Dating': 2, 'Chispa, the Dating App for Latino, Latina Singles': 1, 'Blendr - Chat, Flirt & Meet': 1, 'Find Real Love — YouLove Premium Dating': 1, 'Cougar Dating Life : Date Older Women Sugar Mummy': 1, 'stranger chat - anonymous chat': 1, 'Millionaire Match: Rich Singles Dating App': 1, 'Dating for 50 plus Mature Singles – FINALLY': 1, 'Moco+ - Chat, Meet People': 1, 'Chat Rooms, Avatars, Date - Galaxy': 1, 'FastMeet: Chat, Dating, Love': 1, 'Christian Dating For Free App': 1, 'Meet24 - Love, Chat, Singles': 1, 'Black White Interracial Dating - Interracial Match': 1, 'Gay Sugar Daddy Dating & Hookup – Sudy Gay': 1, 'Adult Dirty Emojis': 2, 'Hide App, Private Dating, Safe Chat - PrivacyHider': 1, 'Meet4U - Chat, Love, Singles!': 1, '95Live -SG#1 Live Streaming App': 1, 'O-Star': 2, 'Random Video Chat': 1, 'Black People Meet Singles Date': 1, 'Howlr': 1, 'Free Dating & Flirt Chat - Choice of Love': 1, 'Cardi B Live Stream Video Chat - Prank': 1, 'Chat Kids - Chat Room For Kids': 1, 'Transenger – Ts Dating and Chat for Free': 1, 'BBW Dating & Curvy Singles Chat- LargeFriends': 1, 'MouseMingle': 1, 'FlirtChat - ♥Free Dating/Flirting App♥': 1, 'Live Talk - Free Text and Video Chat': 1, 'Free Cam Girls - Live Webcam': 1, 'Random Video Chat App With Strangers': 1, 'Live Girls Talk - Free Video Chat': 1, 'Girls Live Chat - Free Text & Video Chat': 1, 'Free Dating App - Meet Local Singles - Flirt Chat': 1, 'iPair-Meet, Chat, Dating': 1, 'Free Dating Hook Up Messenger': 1, 'Free Dating App - YoCutie - Flirt, Chat & Meet': 1, 'Khan Academy': 2, 'TED': 3, 'Lumosity: #1 Brain Games & Cognitive Training App': 1, 'Udemy - Online Courses': 2, 'Duolingo: Learn Languages Free': 6, 'Quizlet: Learn Languages & Vocab with Flashcards': 3, 'Coursera: Online courses': 1, 'Udacity - Lifelong Learning': 1, 'edX - Online Courses by Harvard, MIT & more': 1, 'Lynda - Online Training Videos': 1, 'Learn languages, grammar & vocabulary with Memrise': 3, 'Brilliant': 1, 'Babbel – Learn Languages': 3, 'Rosetta Stone: Learn to Speak & Read New Languages': 3, 'Learn English with Wlingua': 1, 'Google Classroom': 2, 'Learn 50 languages': 1, 'Mango Languages: Lovable Language Courses': 1, 'busuu: Learn Languages - Spanish, English & More': 3, 'My Class Schedule: Timetable': 1, 'Socratic - Math Answers & Homework Help': 1, 'ClassDojo': 2, 'HelloTalk — Chat, Speak & Learn Foreign Languages': 1, 'Movies by Flixster, with Rotten Tomatoes': 2, 'IMDb Movies & TV': 2, 'Netflix': 4, 'Tubi TV - Free Movies & TV': 2, 'Crunchyroll - Everything Anime': 2, 'STARZ': 2, 'Crackle - Free TV & Movies': 2, 'CBS - Full Episodes & Live TV': 1, 'Nick': 5, 'Hulu: Stream TV, Movies & more': 3, 'FOX NOW - On Demand & Live TV': 2, 'The CW': 3, 'HISTORY: Watch TV Show Full Episodes & Specials': 2, 'HBO NOW: Stream TV & Movies': 3, 'A&E - Watch Full Episodes of TV Shows': 3, 'VH1': 2, 'Lifetime - Watch Full Episodes & Original Movies': 2, 'BET NOW - Watch Shows': 2, 'Food Network': 2, 'Viki: Asian TV Dramas & Movies': 2, 'Univision NOW - Live TV and On Demand': 1, 'SHOWTIME': 1, 'MTV': 1, 'Comedy Central': 1, 'FOX': 1, 'Telemundo Now': 1, 'Fandango Movies - Times + Tickets': 1, 'Google Pay': 3, 'Wells Fargo Daily Change': 1, 'Credit Karma': 2, 'Robinhood - Investing, No Fees': 1, 'Digit Save Money Automatically': 1, 'Acorns - Invest Spare Change': 1, 'Money Lover: Expense Tracker, Budget Planner': 1, 'Mint: Budget, Bills, Finance': 2, 'Simple - Better Banking': 1, 'PayPal': 1, 'Wells Fargo Mobile': 1, 'Capital One® Mobile': 1, 'Grubhub: Food Delivery': 1, 'Postmates Food Delivery: Order Eats & Alcohol': 1, \"Domino's Pizza USA\": 1, 'Chick-fil-A': 2, 'Zomato - Restaurant Finder and Food Delivery App': 1, 'Run with Map My Run': 2, 'Weight Loss Running by Verv': 2, 'Nike+ Run Club': 3, 'Runtastic Running App & Mile Tracker': 2, '8fit Workouts & Meal Planner': 1, 'Daily Yoga - Yoga Fitness Plans': 2, 'Pocket Yoga': 1, 'Calorie Counter - MyFitnessPal': 4, 'Seven - 7 Minute Workout Training Challenge': 1, 'Weight Watchers Mobile': 2, 'Walk with Map My Walk': 1, 'Workout Trainer: fitness coach': 1, 'Nike Training Club - Workouts & Fitness Plans': 2, 'Fitbit Coach': 1, 'Endomondo - Running & Walking': 1, 'Runkeeper - GPS Track Run Walk': 1, 'Lose It! - Calorie Counter': 2, 'Calorie Counter - MyNetDiary': 1, '10 Best Foods for You': 1, 'MyPlate Calorie Tracker': 1, 'Weight Loss Tracker - RecStyle': 1, 'Calorie Counter by FatSecret': 1, 'Calorie Counter - Macros': 1, 'My Diet Diary Calorie Counter': 1, 'Lark - 24/7 Health Coach': 1, 'Calorie Counter & Diet Tracker': 1, 'MealLogger-Photo Food Journal': 1, 'Health and Nutrition Guide': 1, 'Food Calorie Calculator': 1, 'Relax Meditation: Sleep with Sleep Sounds': 1, 'Meditation Music - Relax, Yoga': 1, '21-Day Meditation Experience': 1, 'Fabulous: Motivate Me! Meditate, Relax, Sleep': 1, 'Calm - Meditate, Sleep, Relax': 1, 'Relax Melodies: Sleep Sounds': 1, 'Simple Habit Meditation': 1, 'Headspace: Meditation & Mindfulness': 1, 'Houzz Interior Design Ideas': 3, 'Mortgage by Zillow: Calculator & Rates': 1, 'Redfin Real Estate': 1, 'Apartment List: Housing, Apt, and Property Rentals': 1, 'Realtor.com Real Estate: Homes for Sale and Rent': 1, 'Trulia Real Estate & Rentals': 1, 'Zillow: Find Houses for Sale & Apartments for Rent': 1, 'Apartments & Rentals - Zillow': 1, 'Trulia Rent Apartments & Homes': 1, 'Apartments.com Rental Search': 1, 'Vaniday - Beauty Booking App': 1, 'StyleSeat': 1, 'JOANN - Crafts & Coupons': 1, 'Fashion in Vogue': 2, 'Wheretoget: Shop in style': 1, 'My Dressing - Fashion closet': 1, 'Chictopia': 1, 'Scarf Fashion Designer': 1, 'Zara': 1, 'Subway Surfers': 5, 'ROBLOX': 8, 'Pou': 3, '8 Ball Pool': 6, 'Clash of Clans': 3, 'Candy Crush Saga': 6, 'Plants vs. Zombies FREE': 4, 'My Talking Angela': 3, 'Bubble Shooter': 5, 'Word Search': 3, 'Candy Crush Soda Saga': 2, 'Fishdom': 2, 'Block Puzzle': 3, 'Clash Royale': 3, 'Sniper 3D Gun Shooter: Free Shooting Games - FPS': 5, 'Granny': 4, 'Galaxy Attack: Alien Shooter': 2, 'Angry Birds Rio': 3, 'Zombie Catchers': 5, 'Zombie Hunter King': 3, 'Temple Run 2': 5, 'Zombie Tsunami': 4, 'Farm Heroes Saga': 4, 'Super Jim Jump - pixel 3d': 2, 'slither.io': 5, 'Angry Birds Classic': 4, 'Flow Free': 4, 'Helix Jump': 5, 'Toon Blast': 2, 'Kick the Buddy': 3, 'Magic Tiles 3': 3, 'Bowmasters': 5, 'Wordscapes': 3, 'Block Craft 3D: Building Simulator Games For Free': 2, 'PUBG MOBILE': 3, 'DRAGON BALL LEGENDS': 3, 'Harry Potter: Hogwarts Mystery': 1, 'MARVEL Strike Force': 2, 'Merge Dragons!': 1, 'Honkai Impact 3rd': 1, 'Toy Blast': 1, 'Homescapes': 1, 'Cooking Fever': 1, 'Gardenscapes': 1, 'Score! Hero': 2, 'Dream League Soccer 2018': 2, 'Fruits Bomb': 1, 'Talking Tom Gold Run': 3, 'My Talking Tom': 2, 'Hill Climb Racing': 3, 'Pixel Art: Color by Number Game': 2, 'Rider': 1, 'Garena Free Fire': 3, 'Miraculous Ladybug & Cat Noir - The Official Game': 2, 'Solitaire': 2, 'Traffic Racer': 1, 'Earn to Die 2': 1, 'Bubble Shooter 2': 1, 'Candy Crush Jelly Saga': 1, 'Cut the Rope FULL FREE': 2, 'Jewels Star: OZ adventure': 1, 'Hungry Shark Evolution': 2, 'Best Fiends - Free Puzzle Game': 1, 'Hill Climb Racing 2': 1, 'Swamp Attack': 1, 'Block Puzzle Classic Legend !': 1, 'DEAD TARGET: FPS Zombie Apocalypse Survival Games': 1, 'YouTube Kids': 3, 'Candy Bomb': 1, 'Princess Coloring Book': 1, 'Hello Kitty Nail Salon': 1, 'Dog Run - Pet Dog Simulator': 2, 'Coloring book moana': 1, 'Barbie™ Fashion Closet': 1, 'Minion Rush: Despicable Me Official Game': 3, 'No.Draw - Colors by Number 2018': 1, 'Super ABC! Learning games for kids! Preschool apps': 1, 'PJ Masks: Moonlight Heroes': 2, 'Hot Wheels: Race Off': 1, 'Farming Simulator 14': 1, 'Mcqueen Coloring pages': 1, 'Monster Truck Driver & Racing': 1, 'Strawberry Shortcake BerryRush': 2, 'DC Super Hero Girls™': 3, 'Toca Kitchen 2': 2, 'Disney Magic Kingdoms: Build Your Own Magical Park': 1, 'Toca Life: City': 1, 'Papumba Academy - Fun Learning For Kids': 2, 'Kids Balloon Pop Game Free 🎈': 1, 'Sounds for Toddlers FREE': 1, 'Elmo Calls by Sesame Street': 2, 'Sago Mini Friends': 2, 'Tee and Mo Bath Time Free': 1, 'Bita and the Animals - Pelos Ares': 1, 'TO-FU Oh!SUSHI': 1, 'DreamWorks Friends': 1, 'Avokiddo Emotions': 1, 'Nighty Night Circus': 1, 'Sago Mini Babies': 1, \"Dr. Panda & Toto's Treehouse\": 2, 'PlayKids - Educational cartoons and games for kids': 1, 'Baby Panda Care': 1, 'Monster High™': 1, 'Shopkins World!': 1, 'DisneyNOW – TV Shows & Games': 2, 'Equestria Girls': 2, 'Frozen Free Fall': 2, 'Thomas & Friends: Race On!': 1, 'Inside Out Thought Bubbles': 1, 'School of Dragons': 1, 'Peak – Brain Games & Training': 1, 'Period Tracker': 1, 'Vargo Anesthesia Mega App': 1, 'Monash Uni Low FODMAP Diet': 1, 'mySugr: the blood sugar tracker made just for you': 2, 'Human Anatomy Atlas 2018: Complete 3D Human Body': 2, 'ASCCP Mobile': 1, 'Paramedic Protocol Provider': 1, '2017 EMRA Antibiotic Guide': 1, 'Essential Anatomy 3': 1, 'EMT PASS': 1, 'Block Buddy': 1, 'EMT Review Plus': 1, 'Journal Club: Medicine': 1, 'Pedi STAT': 1, 'AnatomyMapp': 1, 'Diabetes & Diet Tracker': 1, 'A Manual of Acupuncture': 1, 'PTA Content Master': 1, 'Muscle Premium - Human Anatomy, Kinesiology, Bones': 1, 'Cardiac diagnosis (heart rate, arrhythmia)': 2, 'Medical ID - In Case of Emergency (ICE)': 1, 'IBM Micromedex Drug Info': 1, 'Advanced Comprehension Therapy': 1, 'Hospitalist Handbook': 1, 'Teladoc Member': 1, 'Ada - Your Health Guide': 1, 'Ovia Fertility Tracker & Ovulation Calculator': 1, 'Youper - AI Therapy': 2, 'MoodSpace': 1, 'Super Hearing Super Ear Amplifier': 1, 'Penn State Health OnDemand': 1, 'ScriptSave WellRx Rx Discounts': 1, 'Free Blood Pressure': 2, 'All Mental disorders': 1, 'Nurse Grid': 1, 'JH Blood Pressure Monitor': 1, 'Blood Pressure': 2, 'RT 516 VET': 1, 'Anthem Anywhere': 1, 'Sway Medical': 1, \"fred's Pharmacy\": 1, 'Breastfeeding Tracker Baby Log': 1, 'Banfield Pet Health Tracker': 1, '1800 Contacts - Lens Store': 1, 'TextNow - free text + calls': 1, 'Tumblr': 2, 'Snapchat': 3, 'Instagram': 3, 'Periscope - Live Video': 2, 'Pinterest': 2, 'MeetMe: Chat & Meet New People': 4, 'ooVoo Video Calls, Messaging & Stories': 1, 'LinkedIn': 1, 'Tango - Live Video Broadcast': 1, 'SayHi Chat, Meet New People': 2, 'Tapatalk - 100,000+ Forums': 1, 'Badoo - Free Chat & Dating App': 3, 'Nextdoor - Local neighborhood news & classifieds': 1, 'Meetup': 3, 'Text Free: WiFi Calling App': 2, 'textPlus: Free Text & Calls': 1, 'POF Free Dating App': 2, 'Tagged - Meet, Chat & Dating': 1, 'LOVOO': 1, 'SKOUT - Meet, Chat, Go Live': 1, 'Jaumo Dating, Flirt & Live Video': 1, 'Couple - Relationship App': 1, 'Wish - Shopping Made Fun': 4, 'SnipSnap Coupon App': 1, 'Extreme Coupon Finder': 2, 'Checkout 51: Grocery coupons': 2, 'The Coupons App': 3, 'RetailMeNot - Coupons, Deals & Discount Shopping': 2, 'Groupon - Shop Deals, Discounts & Coupons': 3, 'Stocard - Rewards Cards Wallet': 1, 'eBay: Buy & Sell this Summer - Discover Deals Now!': 4, 'Gyft - Mobile Gift Card Wallet': 2, 'Shopkick: Free Gift Cards, Shop Rewards & Deals': 1, 'Shopular: Coupons, Weekly Ads & Shopping Deals': 1, 'Carousell: Snap-Sell, Chat-Buy': 1, 'Walmart': 1, 'Ibotta: Cash Back Savings, Rewards & Coupons App': 1, 'AliExpress - Smarter Shopping, Better Living': 3, 'LivingSocial - Local Deals': 2, 'Amazon Shopping': 2, 'Poshmark - Buy & Sell Fashion': 1, 'Target - now with Cartwheel': 2, 'ZALORA Fashion Shopping': 1, 'Fancy': 2, \"Modcloth – Unique Indie Women's Fashion & Style\": 1, \"JackThreads: Men's Shopping\": 2, 'Zappos – Shoe shopping made simple': 1, 'Wanelo Shopping': 1, 'Etsy: Handmade & Vintage Goods': 1, 'Slickdeals: Coupons & Shopping': 2, 'ASOS': 1, 'Google Photos': 3, 'Shutterfly: Free Prints, Photo Books, Cards, Gifts': 3, 'InstaBeauty -Makeup Selfie Cam': 1, 'B612 - Beauty & Filter Camera': 2, 'BeautyPlus - Easy Photo Editor & Selfie Camera': 4, 'YouCam Perfect - Selfie Photo Editor': 2, 'Muzy - Share photos & collages': 1, 'QuickPic - Photo Gallery with Google Drive Support': 2, 'Flickr': 1, 'Open Camera': 2, 'Camera for Android': 2, 'Cymera Camera- Photo Editor, Filter,Collage,Layout': 3, 'Candy Camera - selfie, beauty camera, photo editor': 2, 'Camera360: Selfie Photo Editor with Funny Sticker': 2, 'Facetune - For Free': 2, 'Photo Editor Selfie Camera Filter & Mirror Image': 1, 'HD Camera for Android': 1, 'Photo Editor Pro': 1, 'YouCam Makeup - Magic Selfie Makeovers': 1, 'Photo Editor-': 1, 'Photo Editor': 1, 'Adobe Photoshop Express:Photo Editor Collage Maker': 1, 'InstaSize Photo Filters & Collage Editor': 1, 'CBS Sports App - Scores, News, Stats & Watch Live': 7, 'Yahoo Fantasy Sports - #1 Rated Fantasy App': 4, 'ESPN': 6, 'NFL': 2, 'Bleacher Report: sports news, scores, & highlights': 5, 'ESPN Fantasy Sports': 3, 'theScore: Live Sports Scores, News, Stats & Videos': 4, 'MLB At Bat': 4, 'WatchESPN': 3, 'Hole19: Golf GPS App, Rangefinder & Scorecard': 1, 'CBS Sports Fantasy': 1, 'Yahoo Sports - scores, stats, news, & highlights': 2, 'FotMob - Live Soccer Scores': 1, 'US Open Tennis Championships 2018': 1, 'FIFA - Tournaments, Soccer News & Live Scores': 1, 'Golfshot: Golf GPS + Tee Times': 1, 'BBC Sport': 1, 'MLB Ballpark': 1, 'FOX Sports: Live Streaming, Scores & News': 1, 'Fantasy Football': 1, 'PGA TOUR': 1, 'UFC': 1, 'trivago: Hotels & Travel': 2, 'Expedia Hotels, Flights & Car Rental Travel Deals': 3, 'TripAdvisor Hotels Flights Restaurants Attractions': 4, 'Skyscanner': 4, 'Booking.com Travel Deals': 2, 'Priceline Hotel Deals, Rental Cars & Flights': 2, 'United Airlines': 1, 'Southwest Airlines': 1, 'Hopper - Watch & Book Flights': 1, 'Fly Delta': 1, 'KAYAK Flights, Hotels & Cars': 2, 'American Airlines': 2, 'Orbitz - Hotels, Flights & Package Deals': 1, 'Hotels.com: Book Hotel Rooms & Find Vacation Deals': 1, 'Hostelworld: Hostels & Cheap Hotels Travel App': 1, 'Airbnb': 1, 'HotelTonight: Book amazing deals at great hotels': 2, 'Maps - Navigate & Explore': 2, 'Google Street View': 1, 'Calculator': 1, 'Gboard - the Google Keyboard': 2, 'ZEDGE™ Ringtones & Wallpapers': 3, 'Nova Launcher': 1, 'Apex Launcher': 2, 'Smart Launcher 5': 1, 'Google Keep': 3, 'Evernote – Organizer, Planner for Notes & Memos': 3, 'ES File Explorer File Manager': 2, 'Microsoft Word': 2, 'Google Drive': 3, 'Adobe Acrobat Reader': 2, 'Google PDF Viewer': 2, 'Microsoft Excel': 1, 'Google Docs': 2, 'Microsoft PowerPoint': 1, 'Microsoft OneNote': 2, 'Google Calendar': 2, 'Wunderlist: To-Do List & Tasks': 2, 'Any.do: To-do list, Calendar, Reminders & Planner': 2, 'Todoist: To-do lists for task management & errands': 2, 'Planner Pro-Personal Organizer': 1, 'Microsoft OneDrive': 1, 'Dropbox': 2, 'MX Player': 2, 'Video Editor': 2, 'Google News': 3, 'Flipboard: News For Our Time': 2, 'BBC News': 2, 'Fox News – Breaking News, Live Video & News Alerts': 2, 'USA TODAY': 2, 'CNN Breaking US & World News': 2, 'Twitter': 2, 'NPR News': 1, 'Haystack TV: Local & World News - Free': 1, 'ABC News - US & World News': 1, 'NBC News': 1, 'The Wall Street Journal: Business & Market News': 1, 'NYTimes - Latest News': 2, 'Newsroom: News Worth Sharing': 1, 'BuzzFeed: News, Tasty, Quizzes': 1, 'Flashlight': 1, 'Agar.io': 1, 'LEGO® Juniors Create & Cruise': 1, 'Google Translate': 1, 'Pokémon GO': 1, 'PAC-MAN': 1, 'Colorfy: Coloring Book for Adults - Free': 1, 'YouTube': 1, \"Alto's Adventure\": 1, 'Facebook': 1, 'VPN Free - Betternet Hotspot VPN & Private Browser': 1, 'EMT Tutor NREMT-B Study Guide': 1, 'EMT-B Pocket Prep': 1, 'Diary with lock': 1, 'C Programming': 1, 'CppDroid - C/C++ IDE': 1, 'Learn C++': 1, 'Google Duo - High Quality Video Calls': 1, 'Crossy Road': 1, 'E*TRADE Mobile': 1, 'WWE': 1, 'Amazon Kindle': 1, 'Microsoft Edge': 1, 'Microsoft Outlook': 1, 'Ebook Reader': 1, 'Flipkart Online Shopping App': 1, 'Facebook Lite': 1, 'Messenger Lite: Free Calls & Messages': 1, 'imo beta free calls and text': 1, 'Geometry Dash World': 1, 'Google+': 1, 'Google': 1, 'G Cloud Backup': 1, 'H&M': 1, 'H TV': 1, 'Talking Ben the Dog': 1, 'Sonic Dash': 1, 'Talkatone: Free Texts, Calls & Phone Number': 1, 'Textgram - write on photos': 1, 'Jetpack Joyride': 1, 'Anger of stick 5 : zombie': 1, 'Turbo FAST': 1, 'K PLUS': 1, 'PowerDirector Video Editor App: 4K, Slow Mo & More': 1, 'Fuzzy Numbers: Pre-K Number Foundation': 1, 'LiveMe - Video chat, new friends, and make money': 1, 'letgo: Buy & Sell Used Stuff, Cars & Real Estate': 1, 'Love Balls': 1, 'Last Day on Earth: Survival': 1, 'Minecraft': 1, 'MEGA': 1, 'I’m Expecting - Pregnancy App': 1, 'Diabetes:M': 1, 'PicsArt Photo Studio: Collage Maker & Pic Editor': 1, 'Quora': 1, 'SHAREit - Transfer & Share': 1, 'Topbuzz: Breaking News, Videos & Funny GIFs': 1, 'Twitch: Livestream Multiplayer Games & Esports': 1, 'myAT&T': 1, 'Truecaller: Caller ID, SMS spam blocking & Dialer': 1, 'Showtime Anytime': 1, 'Uber': 1, 'VLC for Android': 1, 'Vigo Video': 1, 'Wattpad 📖 Free Books': 1, 'Waze - GPS, Maps, Traffic Alerts & Live Navigation': 1, 'Dating App, Flirt & Chat : W-Match': 1, 'WPS Office - Word, Docs, PDF, Note, Slide & Sheet': 1, 'LINE WEBTOON - Free Comics': 1, 'WhatsApp Business': 1, 'We Heart It': 1, 'Telegram X': 1, 'Share Music & Transfer Files - Xender': 1, 'Yandex Browser with Protect': 1, 'YouTube Studio': 1, 'PBS KIDS Video': 1, 'YouTube Gaming': 1, 'GO Keyboard - Emoticon keyboard, Free Theme, GIF': 1, 'Zello PTT Walkie Talkie': 1, 'Z Camera - Photo Editor, Beauty Selfie, Collage': 1, 'Six Pack in 30 Days - Abs Workout': 1, 'Angry Birds 2': 1, 'AC - Tips & News for Android™': 1, 'CM Browser - Ad Blocker , Fast Download , Privacy': 1, 'Mobi Calculator free & AD free!': 1, 'Flipp - Weekly Shopping': 1, 'Camera FV-5 Lite': 1, 'All Football - Latest News & Videos': 1, 'Maricopa AH': 1, 'Animal Jam - Play Wild!': 1, 'RULES OF SURVIVAL': 1, 'Amazon for Tablets': 1, 'Final Fantasy XV: A New Empire': 1, 'The Sims™ FreePlay': 1, 'Text free - Free Text + Call': 1, '365Scores - Live Scores': 1, 'DINO HUNTER: DEADLY SHORES': 1, 'AP Mobile - Breaking News': 1, 'Reuters News': 1, 'AccuWeather: Daily Forecast & Live Weather Reports': 1, 'Moovit: Bus Time & Train Time Live Info': 1, 'Jurassic World™ Alive': 1, 'Overstock – Home Decor, Furniture Shopping': 1, 'Choices: Stories You Play': 1, 'Runtastic Sleep Better: Sleep Cycle & Smart Alarm': 1, 'Ringtone Maker': 1, 'Plants vs. Zombies™ Heroes': 1, 'CM FILE MANAGER HD': 1, 'realestate.com.au - Buy, Rent & Sell Property': 1, 'Video Player All Format': 1, 'DEER HUNTER 2018': 1, 'Google Play Games': 1, 'ai.type Free Emoji Keyboard': 1, 'Manga AZ - Manga Comic Reader': 1, 'British Airways': 1, 'Anthem BC Anywhere': 1, 'Transit: Real-Time Transit App': 1, 'PMHNP-BC Pocket Prep': 1, 'Backgrounds HD (Wallpapers)': 1, 'Blur Image Background': 1, 'Newegg Mobile': 1, 'English Dictionary - Offline': 1, 'English Grammar Test': 1, 'Daily Manga - Comic & Webtoon': 1, 'BBM - Free Calls & Messages': 1, 'BeyondMenu Food Delivery': 1, 'NOOK: Read eBooks & Magazines': 1, 'NOOK App for NOOK Devices': 1, 'HBO GO: Stream with TV Package': 1, 'No Crop & Square for Instagram': 1, 'Hungry Shark World': 1, 'iBP Blood Pressure': 1, 'Blood Pressure Log - MyDiary': 1, 'Blood Pressure(BP) Diary': 1, 'BP Journal - Blood Pressure Diary': 1, 'Blood Pressure Monitor': 1, 'Blood Pressure Companion': 1, 'High Blood Pressure Symptoms': 1, 'QR Scanner & Barcode Scanner 2018': 1, 'Camera FV-5': 1, 'Camera MX - Free Photo & Video Camera': 1, 'Cardboard': 1, 'Maps & GPS Navigation — OsmAnd': 1, 'Beautiful Widgets Pro': 1, 'Beautiful Widgets Free': 1, 'HD Widgets': 1, 'Color by Number – New Coloring Book': 1, 'Photo Editor by Aviary': 1, 'UNICORN - Color By Number & Pixel Art Coloring': 1, '420 BZ Budeze Delivery': 1, 'BZWBK24 mobile': 1, 'Zoosk Dating App: Meet Singles': 1, 'Cricbuzz - Live Cricket Scores & News': 1, 'Cheapflights – Flight Search': 1, 'Chrome Beta': 1, 'Chrome Dev': 1, 'CJmall': 1, 'Castle Clash: Heroes of the Empire US': 1, 'CM Launcher 3D - Theme, Wallpapers, Efficient': 1, 'CM Locker - Security Lockscreen': 1, 'CM Flashlight (Compass, SOS)': 1, 'Ruler': 1, 'Cartoon Network App': 1, 'LEGO® TV': 1, 'Brit + Co': 1, 'CT Scan Cross Sectional Anatomy': 1, 'Shadow Fight 2': 1, 'Curriculum vitae App CV Builder Free Resume Maker': 1, 'CW Seed': 1, 'Camera360 Lite - Selfie Camera': 1, 'Mapy.cz - Cycling & Hiking offline maps': 1, 'Face Filter, Selfie Editor - Sweet Camera': 1, 'Metal Soldiers 2': 1, \"COOKING MAMA Let's Cook!\": 1, 'Run Sausage Run!': 1, 'Knife Hit': 1, 'DC Comics': 1, 'MARVEL Contest of Champions': 1, 'wetter.com - Weather and Radar': 1, 'CallApp: Caller ID, Blocker & Phone Call Recorder': 1, 'LINE Camera - Photo editor': 1, 'Racing in Car 2': 1, 'Dungeon Hunter Champions: Epic Online Action RPG': 1, 'Red Bull TV: Live Sports, Music & Entertainment': 1, 'Idle Heroes': 1, 'Free phone calls, free texting SMS on free number': 1, 'Phone Tracker : Family Locator': 1, 'My Photo Keyboard': 1, 'Whoscall - Caller ID & Block': 1, 'Google Sheets': 1, 'Video Downloader': 1, 'Notepad & To do list': 1, 'Polaris Office - Word, Docs, Sheets, Slide, PDF': 1, 'Do It Later: Tasks & To-Dos': 1, 'To-Do Calendar Planner': 1, 'TickTick: To Do List with Reminder, Day Planner': 1, 'ColorNote Notepad Notes': 1, 'Dude Perfect 2': 1, 'Dairy Queen': 1, 'SONIC Drive-In': 1, \"McDonald's\": 1, 'Wendy’s – Food and Offers': 1, \"Dunkin' Donuts\": 1, 'SUBWAY®': 1, 'Panera Bread': 1, 'Starbucks': 1, 'Cache Cleaner-DU Speed Booster (booster & cleaner)': 1, 'DU Browser—Browse fast & fun': 1, 'Real Racing 3': 1, 'My Little Pony Celebration': 1, 'My Little Pony: Harmony Quest': 1, 'The Emirates App': 1, 'Phogy, 3D Camera': 1, 'Weather by eltiempo.es': 1, 'The Game of Life': 1, 'Spanish English Translator': 1, \"Game for KIDS: KIDS match'em\": 1, 'Dictionary - Merriam-Webster': 1, 'Edmodo': 1, 'Chess Free': 1, 'Oxford Dictionary of English : Free': 1, 'Masha and the Bear Child Games': 1, 'Episode - Choose Your Story': 1, 'The NBC App - Watch Live TV and Full Episodes': 1, 'Moto File Manager': 1, 'Moneycontrol – Stocks, Sensex, Mutual Funds, IPO': 1, 'CNBC: Breaking Business News & Live Market Data': 1, 'Google Earth': 1, 'Amino: Communities and Chats': 1, 'Hangouts Dialer - Call Phones': 1, 'Offline Maps & Navigation': 1, 'Strawberry Shortcake Ice Cream Island': 1, 'Home Workout - No Equipment': 1, 'Home Security Camera WardenCam - reuse old phones': 1, 'Web Browser for Android': 1, 'Airway Ex - Intubate. Anesthetize. Train.': 1, 'FilterGrid - Cam&Photo Editor': 1, 'Messages, Text and Video Chat for Messenger': 1, 'All Social Networks': 1, 'Premier League - Official App': 1, 'Fallout Shelter': 1, 'Facebook Pages Manager': 1, 'Facebook Ads Manager': 1, 'Who Viewed My Facebook Profile - Stalkers Visitors': 1, 'The 5th Stand': 1, 'osmino Wi-Fi: free WiFi': 1, 'Fun Kid Racing - Motocross': 1, 'Podcast App: Free & Offline Podcasts by Player FM': 1, 'Motorola FM Radio': 1, 'FarmersOnly Dating': 1, 'FP Notebook': 1, 'AAFP': 1}\n"
     ]
    }
   ],
   "source": [
    "duplicate_entries_count(android,0)"
   ]
  },
  {
   "cell_type": "code",
   "execution_count": 13,
   "metadata": {},
   "outputs": [
    {
     "name": "stdout",
     "output_type": "stream",
     "text": [
      "Number of duplicate apps: 0\n",
      "\n",
      "\n",
      "Number of unique_apps: 7197\n",
      "\n",
      "\n",
      "Duplicate Entries Frequency Table: {}\n"
     ]
    }
   ],
   "source": [
    "duplicate_entries_count(ios,0)"
   ]
  },
  {
   "cell_type": "markdown",
   "metadata": {},
   "source": [
    "# Removing Duplicate Entries Continues..."
   ]
  },
  {
   "cell_type": "code",
   "execution_count": 14,
   "metadata": {},
   "outputs": [
    {
     "name": "stdout",
     "output_type": "stream",
     "text": [
      "Expected Length: 9659\n"
     ]
    }
   ],
   "source": [
    "print(\"Expected Length:\", len(android) - 1181)"
   ]
  },
  {
   "cell_type": "code",
   "execution_count": 15,
   "metadata": {},
   "outputs": [
    {
     "name": "stdout",
     "output_type": "stream",
     "text": [
      "False\n",
      "True\n"
     ]
    }
   ],
   "source": [
    "print('Z' in ['a','b','c'])\n",
    "print('Z' not in ['a','b','c'])"
   ]
  },
  {
   "cell_type": "code",
   "execution_count": 16,
   "metadata": {},
   "outputs": [
    {
     "name": "stdout",
     "output_type": "stream",
     "text": [
      "True\n",
      "False\n"
     ]
    }
   ],
   "source": [
    "name_and_reviews = {\"Instagram\": 6657731, \"Facebook\": 78158306}\n",
    "print(\"LinkedIn\" not in name_and_reviews)\n",
    "print(\"Instagram\" not in name_and_reviews)"
   ]
  },
  {
   "cell_type": "code",
   "execution_count": 18,
   "metadata": {},
   "outputs": [],
   "source": [
    "reviews_max = {}\n",
    "\n",
    "for app in android:\n",
    "    name = app[0]\n",
    "    n_reviews = float(app[3])\n",
    "    \n",
    "    if name in reviews_max and reviews_max[name] < n_reviews:\n",
    "        reviews_max[name] = n_reviews\n",
    "    \n",
    "    elif name not in reviews_max:\n",
    "        reviews_max[name] = n_reviews"
   ]
  },
  {
   "cell_type": "code",
   "execution_count": 20,
   "metadata": {},
   "outputs": [
    {
     "name": "stdout",
     "output_type": "stream",
     "text": [
      "Expected Length: 9659\n",
      "Actual Length: 9659\n"
     ]
    }
   ],
   "source": [
    "print('Expected Length:', len(android) - 1181)\n",
    "print('Actual Length:', len(reviews_max))"
   ]
  },
  {
   "cell_type": "code",
   "execution_count": 22,
   "metadata": {},
   "outputs": [],
   "source": [
    "android_clean = []\n",
    "already_added = []\n",
    "\n",
    "for app in android:\n",
    "    name = app[0]\n",
    "    n_reviews = float(app[3])\n",
    "    \n",
    "    if (reviews_max[name] == n_reviews) and (name not in already_added):\n",
    "        android_clean.append(app)\n",
    "        already_added.append(name)"
   ]
  },
  {
   "cell_type": "code",
   "execution_count": 23,
   "metadata": {},
   "outputs": [
    {
     "name": "stdout",
     "output_type": "stream",
     "text": [
      "['Photo Editor & Candy Camera & Grid & ScrapBook', 'ART_AND_DESIGN', '4.1', '159', '19M', '10,000+', 'Free', '0', 'Everyone', 'Art & Design', 'January 7, 2018', '1.0.0', '4.0.3 and up']\n",
      "\n",
      "\n",
      "['U Launcher Lite – FREE Live Cool Themes, Hide Apps', 'ART_AND_DESIGN', '4.7', '87510', '8.7M', '5,000,000+', 'Free', '0', 'Everyone', 'Art & Design', 'August 1, 2018', '1.2.4', '4.0.3 and up']\n",
      "\n",
      "\n",
      "['Sketch - Draw & Paint', 'ART_AND_DESIGN', '4.5', '215644', '25M', '50,000,000+', 'Free', '0', 'Teen', 'Art & Design', 'June 8, 2018', 'Varies with device', '4.2 and up']\n",
      "\n",
      "\n",
      "Number of Rows: 9659\n",
      "Number of Columns: 13\n"
     ]
    }
   ],
   "source": [
    "explore_data(android_clean, 0, 3, True)"
   ]
  },
  {
   "cell_type": "markdown",
   "metadata": {},
   "source": [
    "# Removing Non-English Apps"
   ]
  },
  {
   "cell_type": "markdown",
   "metadata": {},
   "source": [
    "Some of the data in the set are not directed toward English speaking audience. In this process below we will try to find and remove them."
   ]
  },
  {
   "cell_type": "code",
   "execution_count": 24,
   "metadata": {},
   "outputs": [
    {
     "name": "stdout",
     "output_type": "stream",
     "text": [
      "爱奇艺PPS -《欢乐颂2》电视剧热播\n",
      "【脱出ゲーム】絶対に最後までプレイしないで 〜謎解き＆ブロックパズル〜\n",
      "\n",
      "\n",
      "中国語 AQリスニング\n",
      "لعبة تقدر تربح DZ\n"
     ]
    }
   ],
   "source": [
    "print(ios[813][1])\n",
    "print(ios[6731][1])\n",
    "print('\\n')\n",
    "print(android_clean[4412][0])\n",
    "print(android_clean[7940][0])"
   ]
  },
  {
   "cell_type": "code",
   "execution_count": 26,
   "metadata": {},
   "outputs": [
    {
     "name": "stdout",
     "output_type": "stream",
     "text": [
      "97\n",
      "65\n",
      "29233\n",
      "53\n",
      "43\n"
     ]
    }
   ],
   "source": [
    "print(ord('a'))\n",
    "print(ord('A'))\n",
    "print(ord('爱'))\n",
    "print(ord('5'))\n",
    "print(ord('+'))"
   ]
  },
  {
   "cell_type": "markdown",
   "metadata": {},
   "source": [
    "The numbers that corresponding to the characters we commonly use in the English text are all in range from 0 to 127. According to the ASII standard."
   ]
  },
  {
   "cell_type": "code",
   "execution_count": 27,
   "metadata": {},
   "outputs": [
    {
     "name": "stdout",
     "output_type": "stream",
     "text": [
      "a\n",
      "b\n",
      "c\n"
     ]
    }
   ],
   "source": [
    "string = \"abc\"\n",
    "print(string[0])\n",
    "print(string[1])\n",
    "print(string[2])"
   ]
  },
  {
   "cell_type": "code",
   "execution_count": 28,
   "metadata": {},
   "outputs": [
    {
     "name": "stdout",
     "output_type": "stream",
     "text": [
      "a\n",
      "b\n",
      "c\n"
     ]
    }
   ],
   "source": [
    "for character in string:\n",
    "    print(character)"
   ]
  },
  {
   "cell_type": "code",
   "execution_count": 30,
   "metadata": {},
   "outputs": [],
   "source": [
    "def is_english(string):\n",
    "    for character in string:\n",
    "        if ord(character) > 127:\n",
    "            return False\n",
    "        \n",
    "    return True\n",
    "        "
   ]
  },
  {
   "cell_type": "code",
   "execution_count": 31,
   "metadata": {},
   "outputs": [
    {
     "name": "stdout",
     "output_type": "stream",
     "text": [
      "True\n",
      "False\n"
     ]
    }
   ],
   "source": [
    "print(is_english(\"Instagram\"))\n",
    "print(is_english('爱奇艺PPS -《欢乐颂2》电视剧热播'))"
   ]
  },
  {
   "cell_type": "code",
   "execution_count": 34,
   "metadata": {},
   "outputs": [
    {
     "name": "stdout",
     "output_type": "stream",
     "text": [
      "False\n",
      "False\n",
      "128540\n",
      "8482\n"
     ]
    }
   ],
   "source": [
    "print(is_english(\"Docs To Go™ Free Office Suite\"))\n",
    "print(is_english(\"Instachat 😜\"))\n",
    "\n",
    "print(ord(\"😜\"))\n",
    "print(ord(\"™\"))\n"
   ]
  },
  {
   "cell_type": "code",
   "execution_count": 36,
   "metadata": {},
   "outputs": [],
   "source": [
    "def is_english(string):\n",
    "    non_ascii = 0\n",
    "    \n",
    "    for character in string:\n",
    "        if ord(character) > 127:\n",
    "            non_ascii += 1\n",
    "            \n",
    "    if non_ascii > 3:\n",
    "        return False\n",
    "    else: \n",
    "        return True\n",
    "            "
   ]
  },
  {
   "cell_type": "code",
   "execution_count": 37,
   "metadata": {},
   "outputs": [
    {
     "name": "stdout",
     "output_type": "stream",
     "text": [
      "True\n",
      "True\n"
     ]
    }
   ],
   "source": [
    "print(is_english(\"Docs To Go™ Free Office Suite\"))\n",
    "print(is_english(\"Instachat 😜\"))"
   ]
  },
  {
   "cell_type": "code",
   "execution_count": 41,
   "metadata": {},
   "outputs": [],
   "source": [
    "android_english =[]\n",
    "ios_english = []\n",
    "\n",
    "for app in android_clean:\n",
    "    name = app[0]\n",
    "    if is_english(name):\n",
    "        android_english.append(app)\n",
    "        \n",
    "for app in ios:\n",
    "    name = app[1]\n",
    "    if is_english(name):\n",
    "        ios_english.append(app)"
   ]
  },
  {
   "cell_type": "code",
   "execution_count": 42,
   "metadata": {},
   "outputs": [
    {
     "name": "stdout",
     "output_type": "stream",
     "text": [
      "['Photo Editor & Candy Camera & Grid & ScrapBook', 'ART_AND_DESIGN', '4.1', '159', '19M', '10,000+', 'Free', '0', 'Everyone', 'Art & Design', 'January 7, 2018', '1.0.0', '4.0.3 and up']\n",
      "\n",
      "\n",
      "['U Launcher Lite – FREE Live Cool Themes, Hide Apps', 'ART_AND_DESIGN', '4.7', '87510', '8.7M', '5,000,000+', 'Free', '0', 'Everyone', 'Art & Design', 'August 1, 2018', '1.2.4', '4.0.3 and up']\n",
      "\n",
      "\n",
      "['Sketch - Draw & Paint', 'ART_AND_DESIGN', '4.5', '215644', '25M', '50,000,000+', 'Free', '0', 'Teen', 'Art & Design', 'June 8, 2018', 'Varies with device', '4.2 and up']\n",
      "\n",
      "\n",
      "Number of Rows: 9614\n",
      "Number of Columns: 13\n",
      "\n",
      "\n",
      "['284882215', 'Facebook', '389879808', 'USD', '0.0', '2974676', '212', '3.5', '3.5', '95.0', '4+', 'Social Networking', '37', '1', '29', '1']\n",
      "\n",
      "\n",
      "['389801252', 'Instagram', '113954816', 'USD', '0.0', '2161558', '1289', '4.5', '4.0', '10.23', '12+', 'Photo & Video', '37', '0', '29', '1']\n",
      "\n",
      "\n",
      "['529479190', 'Clash of Clans', '116476928', 'USD', '0.0', '2130805', '579', '4.5', '4.5', '9.24.12', '9+', 'Games', '38', '5', '18', '1']\n",
      "\n",
      "\n",
      "Number of Rows: 6183\n",
      "Number of Columns: 16\n"
     ]
    }
   ],
   "source": [
    "explore_data(android_english, 0, 3, True)\n",
    "print(\"\\n\")\n",
    "explore_data(ios_english, 0, 3, True)"
   ]
  },
  {
   "cell_type": "markdown",
   "metadata": {},
   "source": [
    "# Isolating the Free Apps"
   ]
  },
  {
   "cell_type": "code",
   "execution_count": 43,
   "metadata": {},
   "outputs": [],
   "source": [
    "android_final = []\n",
    "ios_final = []\n",
    "\n",
    "for app in android_english:\n",
    "    price = app[7]\n",
    "    if price == \"0\":\n",
    "        android_final.append(app)\n",
    "        \n",
    "for app in ios_english:\n",
    "    price = app[4]\n",
    "    if price == \"0.0\":\n",
    "        ios_final.append(app)\n",
    "        \n",
    "        "
   ]
  },
  {
   "cell_type": "code",
   "execution_count": 44,
   "metadata": {},
   "outputs": [
    {
     "name": "stdout",
     "output_type": "stream",
     "text": [
      "8864\n",
      "3222\n"
     ]
    }
   ],
   "source": [
    "print(len(android_final))\n",
    "print(len(ios_final))"
   ]
  },
  {
   "cell_type": "markdown",
   "metadata": {},
   "source": [
    "# Finding Most Common Use Apps by Genre"
   ]
  },
  {
   "cell_type": "markdown",
   "metadata": {},
   "source": [
    "Let try to find the mose common genres for both Google Play and App Store."
   ]
  },
  {
   "cell_type": "code",
   "execution_count": 50,
   "metadata": {},
   "outputs": [
    {
     "name": "stdout",
     "output_type": "stream",
     "text": [
      "{'Social Networking': 3.2898820608317814, 'Photo & Video': 4.9658597144630665, 'Games': 58.16263190564867, 'Music': 2.0484171322160147, 'Reference': 0.5586592178770949, 'Health & Fitness': 2.0173805090006205, 'Weather': 0.8690254500310366, 'Utilities': 2.5139664804469275, 'Travel': 1.2414649286157666, 'Shopping': 2.60707635009311, 'News': 1.3345747982619491, 'Navigation': 0.186219739292365, 'Lifestyle': 1.5828677839851024, 'Entertainment': 7.883302296710118, 'Food & Drink': 0.8069522036002483, 'Sports': 2.1415270018621975, 'Book': 0.4345127250155183, 'Finance': 1.1173184357541899, 'Education': 3.662321539416512, 'Productivity': 1.7380509000620732, 'Business': 0.5276225946617008, 'Catalogs': 0.12414649286157665, 'Medical': 0.186219739292365}\n"
     ]
    }
   ],
   "source": [
    "def freq_table(dataset, index):\n",
    "    table = {}\n",
    "    total = 0\n",
    "    \n",
    "    for row in dataset:\n",
    "        total += 1\n",
    "        value = row[index]\n",
    "        if value in table:\n",
    "            table[value] += 1\n",
    "        else: \n",
    "            table[value] = 1\n",
    "            \n",
    "    table_percentages = {}\n",
    "    for key in table:\n",
    "        percentage = (table[key] / total * 100)\n",
    "        table_percentages[key] = percentage\n",
    "        \n",
    "    return table_percentages\n",
    "        \n",
    "print(freq_table(ios_final, -5))"
   ]
  },
  {
   "cell_type": "code",
   "execution_count": 52,
   "metadata": {},
   "outputs": [],
   "source": [
    "def display_table(dataset, index):\n",
    "    table = freq_table(dataset, index)\n",
    "    table_display = []\n",
    "    for key in table:\n",
    "        key_val_as_tuple = (table[key], key)\n",
    "        table_display.append(key_val_as_tuple)\n",
    "        \n",
    "    table_sorted = sorted(table_display, reverse = True)\n",
    "    for entry in table_sorted:\n",
    "        print(entry[1], ':', entry[0])"
   ]
  },
  {
   "cell_type": "markdown",
   "metadata": {},
   "source": [
    "## IOS and Google Play Frequency Table"
   ]
  },
  {
   "cell_type": "code",
   "execution_count": 53,
   "metadata": {},
   "outputs": [
    {
     "name": "stdout",
     "output_type": "stream",
     "text": [
      "Games : 58.16263190564867\n",
      "Entertainment : 7.883302296710118\n",
      "Photo & Video : 4.9658597144630665\n",
      "Education : 3.662321539416512\n",
      "Social Networking : 3.2898820608317814\n",
      "Shopping : 2.60707635009311\n",
      "Utilities : 2.5139664804469275\n",
      "Sports : 2.1415270018621975\n",
      "Music : 2.0484171322160147\n",
      "Health & Fitness : 2.0173805090006205\n",
      "Productivity : 1.7380509000620732\n",
      "Lifestyle : 1.5828677839851024\n",
      "News : 1.3345747982619491\n",
      "Travel : 1.2414649286157666\n",
      "Finance : 1.1173184357541899\n",
      "Weather : 0.8690254500310366\n",
      "Food & Drink : 0.8069522036002483\n",
      "Reference : 0.5586592178770949\n",
      "Business : 0.5276225946617008\n",
      "Book : 0.4345127250155183\n",
      "Navigation : 0.186219739292365\n",
      "Medical : 0.186219739292365\n",
      "Catalogs : 0.12414649286157665\n"
     ]
    }
   ],
   "source": [
    "display_table(ios_final, -5)"
   ]
  },
  {
   "cell_type": "code",
   "execution_count": 54,
   "metadata": {},
   "outputs": [
    {
     "name": "stdout",
     "output_type": "stream",
     "text": [
      "FAMILY : 18.907942238267147\n",
      "GAME : 9.724729241877256\n",
      "TOOLS : 8.461191335740072\n",
      "BUSINESS : 4.591606498194946\n",
      "LIFESTYLE : 3.9034296028880866\n",
      "PRODUCTIVITY : 3.892148014440433\n",
      "FINANCE : 3.7003610108303246\n",
      "MEDICAL : 3.531137184115524\n",
      "SPORTS : 3.395758122743682\n",
      "PERSONALIZATION : 3.3167870036101084\n",
      "COMMUNICATION : 3.2378158844765346\n",
      "HEALTH_AND_FITNESS : 3.0798736462093865\n",
      "PHOTOGRAPHY : 2.944494584837545\n",
      "NEWS_AND_MAGAZINES : 2.7978339350180503\n",
      "SOCIAL : 2.6624548736462095\n",
      "TRAVEL_AND_LOCAL : 2.33528880866426\n",
      "SHOPPING : 2.2450361010830324\n",
      "BOOKS_AND_REFERENCE : 2.1435018050541514\n",
      "DATING : 1.861462093862816\n",
      "VIDEO_PLAYERS : 1.7937725631768955\n",
      "MAPS_AND_NAVIGATION : 1.3989169675090252\n",
      "FOOD_AND_DRINK : 1.2409747292418771\n",
      "EDUCATION : 1.1620036101083033\n",
      "ENTERTAINMENT : 0.9589350180505415\n",
      "LIBRARIES_AND_DEMO : 0.9363718411552346\n",
      "AUTO_AND_VEHICLES : 0.9250902527075812\n",
      "HOUSE_AND_HOME : 0.8235559566787004\n",
      "WEATHER : 0.8009927797833934\n",
      "EVENTS : 0.7107400722021661\n",
      "PARENTING : 0.6543321299638989\n",
      "ART_AND_DESIGN : 0.6430505415162455\n",
      "COMICS : 0.6204873646209386\n",
      "BEAUTY : 0.5979241877256317\n"
     ]
    }
   ],
   "source": [
    "display_table(android_final, 1)"
   ]
  },
  {
   "cell_type": "code",
   "execution_count": 55,
   "metadata": {},
   "outputs": [
    {
     "name": "stdout",
     "output_type": "stream",
     "text": [
      "Tools : 8.449909747292418\n",
      "Entertainment : 6.069494584837545\n",
      "Education : 5.347472924187725\n",
      "Business : 4.591606498194946\n",
      "Productivity : 3.892148014440433\n",
      "Lifestyle : 3.892148014440433\n",
      "Finance : 3.7003610108303246\n",
      "Medical : 3.531137184115524\n",
      "Sports : 3.463447653429603\n",
      "Personalization : 3.3167870036101084\n",
      "Communication : 3.2378158844765346\n",
      "Action : 3.1024368231046933\n",
      "Health & Fitness : 3.0798736462093865\n",
      "Photography : 2.944494584837545\n",
      "News & Magazines : 2.7978339350180503\n",
      "Social : 2.6624548736462095\n",
      "Travel & Local : 2.3240072202166067\n",
      "Shopping : 2.2450361010830324\n",
      "Books & Reference : 2.1435018050541514\n",
      "Simulation : 2.0419675090252705\n",
      "Dating : 1.861462093862816\n",
      "Arcade : 1.8501805054151623\n",
      "Video Players & Editors : 1.7712093862815883\n",
      "Casual : 1.7599277978339352\n",
      "Maps & Navigation : 1.3989169675090252\n",
      "Food & Drink : 1.2409747292418771\n",
      "Puzzle : 1.128158844765343\n",
      "Racing : 0.9927797833935018\n",
      "Role Playing : 0.9363718411552346\n",
      "Libraries & Demo : 0.9363718411552346\n",
      "Auto & Vehicles : 0.9250902527075812\n",
      "Strategy : 0.9138086642599278\n",
      "House & Home : 0.8235559566787004\n",
      "Weather : 0.8009927797833934\n",
      "Events : 0.7107400722021661\n",
      "Adventure : 0.6768953068592057\n",
      "Comics : 0.6092057761732852\n",
      "Beauty : 0.5979241877256317\n",
      "Art & Design : 0.5979241877256317\n",
      "Parenting : 0.4963898916967509\n",
      "Card : 0.45126353790613716\n",
      "Casino : 0.42870036101083037\n",
      "Trivia : 0.41741877256317694\n",
      "Educational;Education : 0.39485559566787\n",
      "Board : 0.3835740072202166\n",
      "Educational : 0.3722924187725632\n",
      "Education;Education : 0.33844765342960287\n",
      "Word : 0.2594765342960289\n",
      "Casual;Pretend Play : 0.236913357400722\n",
      "Music : 0.2030685920577617\n",
      "Racing;Action & Adventure : 0.16922382671480143\n",
      "Puzzle;Brain Games : 0.16922382671480143\n",
      "Entertainment;Music & Video : 0.16922382671480143\n",
      "Casual;Brain Games : 0.13537906137184114\n",
      "Casual;Action & Adventure : 0.13537906137184114\n",
      "Arcade;Action & Adventure : 0.12409747292418773\n",
      "Action;Action & Adventure : 0.10153429602888085\n",
      "Educational;Pretend Play : 0.09025270758122744\n",
      "Simulation;Action & Adventure : 0.078971119133574\n",
      "Parenting;Education : 0.078971119133574\n",
      "Entertainment;Brain Games : 0.078971119133574\n",
      "Board;Brain Games : 0.078971119133574\n",
      "Parenting;Music & Video : 0.06768953068592057\n",
      "Educational;Brain Games : 0.06768953068592057\n",
      "Casual;Creativity : 0.06768953068592057\n",
      "Art & Design;Creativity : 0.06768953068592057\n",
      "Education;Pretend Play : 0.056407942238267145\n",
      "Role Playing;Pretend Play : 0.04512635379061372\n",
      "Education;Creativity : 0.04512635379061372\n",
      "Role Playing;Action & Adventure : 0.033844765342960284\n",
      "Puzzle;Action & Adventure : 0.033844765342960284\n",
      "Entertainment;Creativity : 0.033844765342960284\n",
      "Entertainment;Action & Adventure : 0.033844765342960284\n",
      "Educational;Creativity : 0.033844765342960284\n",
      "Educational;Action & Adventure : 0.033844765342960284\n",
      "Education;Music & Video : 0.033844765342960284\n",
      "Education;Brain Games : 0.033844765342960284\n",
      "Education;Action & Adventure : 0.033844765342960284\n",
      "Adventure;Action & Adventure : 0.033844765342960284\n",
      "Video Players & Editors;Music & Video : 0.02256317689530686\n",
      "Sports;Action & Adventure : 0.02256317689530686\n",
      "Simulation;Pretend Play : 0.02256317689530686\n",
      "Puzzle;Creativity : 0.02256317689530686\n",
      "Music;Music & Video : 0.02256317689530686\n",
      "Entertainment;Pretend Play : 0.02256317689530686\n",
      "Casual;Education : 0.02256317689530686\n",
      "Board;Action & Adventure : 0.02256317689530686\n",
      "Video Players & Editors;Creativity : 0.01128158844765343\n",
      "Trivia;Education : 0.01128158844765343\n",
      "Travel & Local;Action & Adventure : 0.01128158844765343\n",
      "Tools;Education : 0.01128158844765343\n",
      "Strategy;Education : 0.01128158844765343\n",
      "Strategy;Creativity : 0.01128158844765343\n",
      "Strategy;Action & Adventure : 0.01128158844765343\n",
      "Simulation;Education : 0.01128158844765343\n",
      "Role Playing;Brain Games : 0.01128158844765343\n",
      "Racing;Pretend Play : 0.01128158844765343\n",
      "Puzzle;Education : 0.01128158844765343\n",
      "Parenting;Brain Games : 0.01128158844765343\n",
      "Music & Audio;Music & Video : 0.01128158844765343\n",
      "Lifestyle;Pretend Play : 0.01128158844765343\n",
      "Lifestyle;Education : 0.01128158844765343\n",
      "Health & Fitness;Education : 0.01128158844765343\n",
      "Health & Fitness;Action & Adventure : 0.01128158844765343\n",
      "Entertainment;Education : 0.01128158844765343\n",
      "Communication;Creativity : 0.01128158844765343\n",
      "Comics;Creativity : 0.01128158844765343\n",
      "Casual;Music & Video : 0.01128158844765343\n",
      "Card;Action & Adventure : 0.01128158844765343\n",
      "Books & Reference;Education : 0.01128158844765343\n",
      "Art & Design;Pretend Play : 0.01128158844765343\n",
      "Art & Design;Action & Adventure : 0.01128158844765343\n",
      "Arcade;Pretend Play : 0.01128158844765343\n",
      "Adventure;Education : 0.01128158844765343\n"
     ]
    }
   ],
   "source": [
    "display_table(android_final, -4)"
   ]
  },
  {
   "cell_type": "markdown",
   "metadata": {},
   "source": [
    "Note from Google Play and App Store:\n",
    "\n",
    "In Google Play we can see the difference between the Genres and the Category columns is not crystal clear, but one thing we can tell is that Genres column have alot more information then the Category columns.\n",
    "\n",
    "On the other hanad we can tell that App Store is dominated by apps that designed for fun, while Google Play show us a more balanced landscape for both practical and for-fun apps."
   ]
  },
  {
   "cell_type": "markdown",
   "metadata": {},
   "source": [
    "# Most Popular Apps by Genre on the App Store"
   ]
  },
  {
   "cell_type": "code",
   "execution_count": 58,
   "metadata": {},
   "outputs": [
    {
     "name": "stdout",
     "output_type": "stream",
     "text": [
      "Social Networking : 71548.34905660378\n",
      "Photo & Video : 28441.54375\n",
      "Games : 22788.6696905016\n",
      "Music : 57326.530303030304\n",
      "Reference : 74942.11111111111\n",
      "Health & Fitness : 23298.015384615384\n",
      "Weather : 52279.892857142855\n",
      "Utilities : 18684.456790123455\n",
      "Travel : 28243.8\n",
      "Shopping : 26919.690476190477\n",
      "News : 21248.023255813954\n",
      "Navigation : 86090.33333333333\n",
      "Lifestyle : 16485.764705882353\n",
      "Entertainment : 14029.830708661417\n",
      "Food & Drink : 33333.92307692308\n",
      "Sports : 23008.898550724636\n",
      "Book : 39758.5\n",
      "Finance : 31467.944444444445\n",
      "Education : 7003.983050847458\n",
      "Productivity : 21028.410714285714\n",
      "Business : 7491.117647058823\n",
      "Catalogs : 4004.0\n",
      "Medical : 612.0\n"
     ]
    }
   ],
   "source": [
    "genres_ios = freq_table(ios_final, -5)\n",
    "\n",
    "for genre in genres_ios:\n",
    "    total = 0\n",
    "    len_genre = 0\n",
    "    for app in ios_final:\n",
    "        genre_app = app[-5]\n",
    "        if genre_app == genre:            \n",
    "            n_ratings = float(app[5])\n",
    "            total += n_ratings\n",
    "            len_genre += 1\n",
    "    avg_n_ratings = total / len_genre\n",
    "    print(genre, ':', avg_n_ratings)\n",
    "            "
   ]
  },
  {
   "cell_type": "markdown",
   "metadata": {},
   "source": [
    "We can see there alot of bias toward navigation and social networking app, since Waze and Google Map. Plus Facebook and instagram domiate the app store.\n"
   ]
  },
  {
   "cell_type": "code",
   "execution_count": 59,
   "metadata": {},
   "outputs": [
    {
     "name": "stdout",
     "output_type": "stream",
     "text": [
      "Waze - GPS Navigation, Maps & Real-time Traffic : 345046\n",
      "Google Maps - Navigation & Transit : 154911\n",
      "Geocaching® : 12811\n",
      "CoPilot GPS – Car Navigation & Offline Maps : 3582\n",
      "ImmobilienScout24: Real Estate Search in Germany : 187\n",
      "Railway Route Search : 5\n"
     ]
    }
   ],
   "source": [
    "for app in ios_final:\n",
    "    if app[-5] == \"Navigation\":\n",
    "        print(app[1], ':', app[5])"
   ]
  },
  {
   "cell_type": "code",
   "execution_count": 60,
   "metadata": {},
   "outputs": [
    {
     "name": "stdout",
     "output_type": "stream",
     "text": [
      "Facebook : 2974676\n",
      "Pinterest : 1061624\n",
      "Skype for iPhone : 373519\n",
      "Messenger : 351466\n",
      "Tumblr : 334293\n",
      "WhatsApp Messenger : 287589\n",
      "Kik : 260965\n",
      "ooVoo – Free Video Call, Text and Voice : 177501\n",
      "TextNow - Unlimited Text + Calls : 164963\n",
      "Viber Messenger – Text & Call : 164249\n",
      "Followers - Social Analytics For Instagram : 112778\n",
      "MeetMe - Chat and Meet New People : 97072\n",
      "We Heart It - Fashion, wallpapers, quotes, tattoos : 90414\n",
      "InsTrack for Instagram - Analytics Plus More : 85535\n",
      "Tango - Free Video Call, Voice and Chat : 75412\n",
      "LinkedIn : 71856\n",
      "Match™ - #1 Dating App. : 60659\n",
      "Skype for iPad : 60163\n",
      "POF - Best Dating App for Conversations : 52642\n",
      "Timehop : 49510\n",
      "Find My Family, Friends & iPhone - Life360 Locator : 43877\n",
      "Whisper - Share, Express, Meet : 39819\n",
      "Hangouts : 36404\n",
      "LINE PLAY - Your Avatar World : 34677\n",
      "WeChat : 34584\n",
      "Badoo - Meet New People, Chat, Socialize. : 34428\n",
      "Followers + for Instagram - Follower Analytics : 28633\n",
      "GroupMe : 28260\n",
      "Marco Polo Video Walkie Talkie : 27662\n",
      "Miitomo : 23965\n",
      "SimSimi : 23530\n",
      "Grindr - Gay and same sex guys chat, meet and date : 23201\n",
      "Wishbone - Compare Anything : 20649\n",
      "imo video calls and chat : 18841\n",
      "After School - Funny Anonymous School News : 18482\n",
      "Quick Reposter - Repost, Regram and Reshare Photos : 17694\n",
      "Weibo HD : 16772\n",
      "Repost for Instagram : 15185\n",
      "Live.me – Live Video Chat & Make Friends Nearby : 14724\n",
      "Nextdoor : 14402\n",
      "Followers Analytics for Instagram - InstaReport : 13914\n",
      "YouNow: Live Stream Video Chat : 12079\n",
      "FollowMeter for Instagram - Followers Tracking : 11976\n",
      "LINE : 11437\n",
      "eHarmony™ Dating App - Meet Singles : 11124\n",
      "Discord - Chat for Gamers : 9152\n",
      "QQ : 9109\n",
      "Telegram Messenger : 7573\n",
      "Weibo : 7265\n",
      "Periscope - Live Video Streaming Around the World : 6062\n",
      "Chat for Whatsapp - iPad Version : 5060\n",
      "QQ HD : 5058\n",
      "Followers Analysis Tool For Instagram App Free : 4253\n",
      "live.ly - live video streaming : 4145\n",
      "Houseparty - Group Video Chat : 3991\n",
      "SOMA Messenger : 3232\n",
      "Monkey : 3060\n",
      "Down To Lunch : 2535\n",
      "Flinch - Video Chat Staring Contest : 2134\n",
      "Highrise - Your Avatar Community : 2011\n",
      "LOVOO - Dating Chat : 1985\n",
      "PlayStation®Messages : 1918\n",
      "BOO! - Video chat camera with filters & stickers : 1805\n",
      "Qzone : 1649\n",
      "Chatous - Chat with new people : 1609\n",
      "Kiwi - Q&A : 1538\n",
      "GhostCodes - a discovery app for Snapchat : 1313\n",
      "Jodel : 1193\n",
      "FireChat : 1037\n",
      "Google Duo - simple video calling : 1033\n",
      "Fiesta by Tango - Chat & Meet New People : 885\n",
      "Google Allo — smart messaging : 862\n",
      "Peach — share vividly : 727\n",
      "Hey! VINA - Where Women Meet New Friends : 719\n",
      "Battlefield™ Companion : 689\n",
      "All Devices for WhatsApp - Messenger for iPad : 682\n",
      "Chat for Pokemon Go - GoChat : 500\n",
      "IAmNaughty – Dating App to Meet New People Online : 463\n",
      "Qzone HD : 458\n",
      "Zenly - Locate your friends in realtime : 427\n",
      "League of Legends Friends : 420\n",
      "豆瓣 : 407\n",
      "Candid - Speak Your Mind Freely : 398\n",
      "知乎 : 397\n",
      "Selfeo : 366\n",
      "Fake-A-Location Free ™ : 354\n",
      "Popcorn Buzz - Free Group Calls : 281\n",
      "Fam — Group video calling for iMessage : 279\n",
      "QQ International : 274\n",
      "Ameba : 269\n",
      "SoundCloud Pulse: for creators : 240\n",
      "Tantan : 235\n",
      "Cougar Dating & Life Style App for Mature Women : 213\n",
      "Rawr Messenger - Dab your chat : 180\n",
      "WhenToPost: Best Time to Post Photos for Instagram : 158\n",
      "Inke—Broadcast an amazing life : 147\n",
      "Mustknow - anonymous video Q&A : 53\n",
      "CTFxCmoji : 39\n",
      "Lobi : 36\n",
      "Chain: Collaborate On MyVideo Story/Group Video : 35\n",
      "botman - Real time video chat : 7\n",
      "BestieBox : 0\n",
      "MATCH ON LINE chat : 0\n",
      "niconico ch : 0\n",
      "LINE BLOG : 0\n",
      "bit-tube - Live Stream Video Chat : 0\n"
     ]
    }
   ],
   "source": [
    "for app in ios_final:\n",
    "    if app[-5] == \"Social Networking\":\n",
    "        print(app[1], ':', app[5])"
   ]
  },
  {
   "cell_type": "code",
   "execution_count": 61,
   "metadata": {},
   "outputs": [
    {
     "name": "stdout",
     "output_type": "stream",
     "text": [
      "Bible : 985920\n",
      "Dictionary.com Dictionary & Thesaurus : 200047\n",
      "Dictionary.com Dictionary & Thesaurus for iPad : 54175\n",
      "Google Translate : 26786\n",
      "Muslim Pro: Ramadan 2017 Prayer Times, Azan, Quran : 18418\n",
      "New Furniture Mods - Pocket Wiki & Game Tools for Minecraft PC Edition : 17588\n",
      "Merriam-Webster Dictionary : 16849\n",
      "Night Sky : 12122\n",
      "City Maps for Minecraft PE - The Best Maps for Minecraft Pocket Edition (MCPE) : 8535\n",
      "LUCKY BLOCK MOD ™ for Minecraft PC Edition - The Best Pocket Wiki & Mods Installer Tools : 4693\n",
      "GUNS MODS for Minecraft PC Edition - Mods Tools : 1497\n",
      "Guides for Pokémon GO - Pokemon GO News and Cheats : 826\n",
      "WWDC : 762\n",
      "Horror Maps for Minecraft PE - Download The Scariest Maps for Minecraft Pocket Edition (MCPE) Free : 718\n",
      "VPN Express : 14\n",
      "Real Bike Traffic Rider Virtual Reality Glasses : 8\n",
      "教えて!goo : 0\n",
      "Jishokun-Japanese English Dictionary & Translator : 0\n"
     ]
    }
   ],
   "source": [
    "for app in ios_final:\n",
    "    if app[-5] == \"Reference\":\n",
    "        print(app[1], ':', app[5])"
   ]
  },
  {
   "cell_type": "markdown",
   "metadata": {},
   "source": [
    "We can see that there is alot of big player in these catagory that skewed with our data, we can try to removed them to get a better picture of the data presented."
   ]
  },
  {
   "cell_type": "markdown",
   "metadata": {},
   "source": [
    "## Most Popular Apps on Google Play"
   ]
  },
  {
   "cell_type": "code",
   "execution_count": 62,
   "metadata": {},
   "outputs": [
    {
     "name": "stdout",
     "output_type": "stream",
     "text": [
      "1,000,000+ : 15.726534296028879\n",
      "100,000+ : 11.552346570397113\n",
      "10,000,000+ : 10.548285198555957\n",
      "10,000+ : 10.198555956678701\n",
      "1,000+ : 8.393501805054152\n",
      "100+ : 6.915613718411552\n",
      "5,000,000+ : 6.825361010830325\n",
      "500,000+ : 5.561823104693141\n",
      "50,000+ : 4.7721119133574\n",
      "5,000+ : 4.512635379061372\n",
      "10+ : 3.5424187725631766\n",
      "500+ : 3.2490974729241873\n",
      "50,000,000+ : 2.3014440433213\n",
      "100,000,000+ : 2.1322202166064983\n",
      "50+ : 1.917870036101083\n",
      "5+ : 0.78971119133574\n",
      "1+ : 0.5076714801444043\n",
      "500,000,000+ : 0.2707581227436823\n",
      "1,000,000,000+ : 0.22563176895306858\n",
      "0+ : 0.04512635379061372\n",
      "0 : 0.01128158844765343\n"
     ]
    }
   ],
   "source": [
    "display_table(android_final, 5)"
   ]
  },
  {
   "cell_type": "markdown",
   "metadata": {},
   "source": [
    "For our purpose of analyze we going to leave the number of installation as they are for example 1,000,000+ will be 1,000,000 and 10,000+ will be 10,000."
   ]
  },
  {
   "cell_type": "code",
   "execution_count": 66,
   "metadata": {},
   "outputs": [
    {
     "name": "stdout",
     "output_type": "stream",
     "text": [
      "ART_AND_DESIGN : 1986335.0877192982\n",
      "AUTO_AND_VEHICLES : 647317.8170731707\n",
      "BEAUTY : 513151.88679245283\n",
      "BOOKS_AND_REFERENCE : 8767811.894736841\n",
      "BUSINESS : 1712290.1474201474\n",
      "COMICS : 817657.2727272727\n",
      "COMMUNICATION : 38456119.167247385\n",
      "DATING : 854028.8303030303\n",
      "EDUCATION : 1833495.145631068\n",
      "ENTERTAINMENT : 11640705.88235294\n",
      "EVENTS : 253542.22222222222\n",
      "FINANCE : 1387692.475609756\n",
      "FOOD_AND_DRINK : 1924897.7363636363\n",
      "HEALTH_AND_FITNESS : 4188821.9853479853\n",
      "HOUSE_AND_HOME : 1331540.5616438356\n",
      "LIBRARIES_AND_DEMO : 638503.734939759\n",
      "LIFESTYLE : 1437816.2687861272\n",
      "GAME : 15588015.603248259\n",
      "FAMILY : 3695641.8198090694\n",
      "MEDICAL : 120550.61980830671\n",
      "SOCIAL : 23253652.127118643\n",
      "SHOPPING : 7036877.311557789\n",
      "PHOTOGRAPHY : 17840110.40229885\n",
      "SPORTS : 3638640.1428571427\n",
      "TRAVEL_AND_LOCAL : 13984077.710144928\n",
      "TOOLS : 10801391.298666667\n",
      "PERSONALIZATION : 5201482.6122448975\n",
      "PRODUCTIVITY : 16787331.344927534\n",
      "PARENTING : 542603.6206896552\n",
      "WEATHER : 5074486.197183099\n",
      "VIDEO_PLAYERS : 24727872.452830188\n",
      "NEWS_AND_MAGAZINES : 9549178.467741935\n",
      "MAPS_AND_NAVIGATION : 4056941.7741935486\n"
     ]
    }
   ],
   "source": [
    "categories_android = freq_table(android_final, 1)\n",
    "\n",
    "for category in categories_android:\n",
    "    total = 0\n",
    "    len_category = 0\n",
    "    for app in android_final:\n",
    "        category_app = app[1]\n",
    "        if category_app == category:            \n",
    "            n_installs = app[5]\n",
    "            n_installs = n_installs.replace(',', '')\n",
    "            n_installs = n_installs.replace('+', '')\n",
    "            total += float(n_installs)\n",
    "            len_category += 1\n",
    "    avg_n_installs = total / len_category\n",
    "    print(category, ':', avg_n_installs)"
   ]
  },
  {
   "cell_type": "markdown",
   "metadata": {},
   "source": [
    "Communcation apps have the most installs around 38,456,119 this is skewed because of app like (WhatsApp, Facebook, and Skype)."
   ]
  },
  {
   "cell_type": "code",
   "execution_count": 67,
   "metadata": {},
   "outputs": [
    {
     "name": "stdout",
     "output_type": "stream",
     "text": [
      "WhatsApp Messenger : 1,000,000,000+\n",
      "imo beta free calls and text : 100,000,000+\n",
      "Android Messages : 100,000,000+\n",
      "Google Duo - High Quality Video Calls : 500,000,000+\n",
      "Messenger – Text and Video Chat for Free : 1,000,000,000+\n",
      "imo free video calls and chat : 500,000,000+\n",
      "Skype - free IM & video calls : 1,000,000,000+\n",
      "Who : 100,000,000+\n",
      "GO SMS Pro - Messenger, Free Themes, Emoji : 100,000,000+\n",
      "LINE: Free Calls & Messages : 500,000,000+\n",
      "Google Chrome: Fast & Secure : 1,000,000,000+\n",
      "Firefox Browser fast & private : 100,000,000+\n",
      "UC Browser - Fast Download Private & Secure : 500,000,000+\n",
      "Gmail : 1,000,000,000+\n",
      "Hangouts : 1,000,000,000+\n",
      "Messenger Lite: Free Calls & Messages : 100,000,000+\n",
      "Kik : 100,000,000+\n",
      "KakaoTalk: Free Calls & Text : 100,000,000+\n",
      "Opera Mini - fast web browser : 100,000,000+\n",
      "Opera Browser: Fast and Secure : 100,000,000+\n",
      "Telegram : 100,000,000+\n",
      "Truecaller: Caller ID, SMS spam blocking & Dialer : 100,000,000+\n",
      "UC Browser Mini -Tiny Fast Private & Secure : 100,000,000+\n",
      "Viber Messenger : 500,000,000+\n",
      "WeChat : 100,000,000+\n",
      "Yahoo Mail – Stay Organized : 100,000,000+\n",
      "BBM - Free Calls & Messages : 100,000,000+\n"
     ]
    }
   ],
   "source": [
    "for app in android_final:\n",
    "    if app[1] ==\"COMMUNICATION\" and (app[5] == \"1,000,000,000+\" or app[5] == \"500,000,000+\" or app[5] == \"100,000,000+\"):\n",
    "        print(app[0], ':', app[5])"
   ]
  },
  {
   "cell_type": "markdown",
   "metadata": {},
   "source": [
    "As we can see the communication giant social media have making the data very skewed for us to analyze that is why we going to try and take them out."
   ]
  },
  {
   "cell_type": "code",
   "execution_count": 68,
   "metadata": {},
   "outputs": [
    {
     "data": {
      "text/plain": [
       "3603485.3884615386"
      ]
     },
     "execution_count": 68,
     "metadata": {},
     "output_type": "execute_result"
    }
   ],
   "source": [
    "under_100_m = []\n",
    "\n",
    "for app in android_final:\n",
    "    n_installs = app[5]\n",
    "    n_installs = n_installs.replace(',', '')\n",
    "    n_installs = n_installs.replace('+', '')\n",
    "    if (app[1] == 'COMMUNICATION') and (float(n_installs) < 100000000):\n",
    "        under_100_m.append(float(n_installs))\n",
    "\n",
    "sum(under_100_m) / len(under_100_m)\n",
    "\n",
    "\n",
    "        "
   ]
  },
  {
   "cell_type": "code",
   "execution_count": 69,
   "metadata": {},
   "outputs": [
    {
     "name": "stdout",
     "output_type": "stream",
     "text": [
      "E-Book Read - Read Book for free : 50,000+\n",
      "Download free book with green book : 100,000+\n",
      "Wikipedia : 10,000,000+\n",
      "Cool Reader : 10,000,000+\n",
      "Free Panda Radio Music : 100,000+\n",
      "Book store : 1,000,000+\n",
      "FBReader: Favorite Book Reader : 10,000,000+\n",
      "English Grammar Complete Handbook : 500,000+\n",
      "Free Books - Spirit Fanfiction and Stories : 1,000,000+\n",
      "Google Play Books : 1,000,000,000+\n",
      "AlReader -any text book reader : 5,000,000+\n",
      "Offline English Dictionary : 100,000+\n",
      "Offline: English to Tagalog Dictionary : 500,000+\n",
      "FamilySearch Tree : 1,000,000+\n",
      "Cloud of Books : 1,000,000+\n",
      "Recipes of Prophetic Medicine for free : 500,000+\n",
      "ReadEra – free ebook reader : 1,000,000+\n",
      "Anonymous caller detection : 10,000+\n",
      "Ebook Reader : 5,000,000+\n",
      "Litnet - E-books : 100,000+\n",
      "Read books online : 5,000,000+\n",
      "English to Urdu Dictionary : 500,000+\n",
      "eBoox: book reader fb2 epub zip : 1,000,000+\n",
      "English Persian Dictionary : 500,000+\n",
      "Flybook : 500,000+\n",
      "All Maths Formulas : 1,000,000+\n",
      "Ancestry : 5,000,000+\n",
      "HTC Help : 10,000,000+\n",
      "English translation from Bengali : 100,000+\n",
      "Pdf Book Download - Read Pdf Book : 100,000+\n",
      "Free Book Reader : 100,000+\n",
      "eBoox new: Reader for fb2 epub zip books : 50,000+\n",
      "Only 30 days in English, the guideline is guaranteed : 500,000+\n",
      "Moon+ Reader : 10,000,000+\n",
      "SH-02J Owner's Manual (Android 8.0) : 50,000+\n",
      "English-Myanmar Dictionary : 1,000,000+\n",
      "Golden Dictionary (EN-AR) : 1,000,000+\n",
      "All Language Translator Free : 1,000,000+\n",
      "Azpen eReader : 500,000+\n",
      "URBANO V 02 instruction manual : 100,000+\n",
      "Bible : 100,000,000+\n",
      "C Programs and Reference : 50,000+\n",
      "C Offline Tutorial : 1,000+\n",
      "C Programs Handbook : 50,000+\n",
      "Amazon Kindle : 100,000,000+\n",
      "Aab e Hayat Full Novel : 100,000+\n",
      "Aldiko Book Reader : 10,000,000+\n",
      "Google I/O 2018 : 500,000+\n",
      "R Language Reference Guide : 10,000+\n",
      "Learn R Programming Full : 5,000+\n",
      "R Programing Offline Tutorial : 1,000+\n",
      "Guide for R Programming : 5+\n",
      "Learn R Programming : 10+\n",
      "R Quick Reference Big Data : 1,000+\n",
      "V Made : 100,000+\n",
      "Wattpad 📖 Free Books : 100,000,000+\n",
      "Dictionary - WordWeb : 5,000,000+\n",
      "Guide (for X-MEN) : 100,000+\n",
      "AC Air condition Troubleshoot,Repair,Maintenance : 5,000+\n",
      "AE Bulletins : 1,000+\n",
      "Ae Allah na Dai (Rasa) : 10,000+\n",
      "50000 Free eBooks & Free AudioBooks : 5,000,000+\n",
      "Ag PhD Field Guide : 10,000+\n",
      "Ag PhD Deficiencies : 10,000+\n",
      "Ag PhD Planting Population Calculator : 1,000+\n",
      "Ag PhD Soybean Diseases : 1,000+\n",
      "Fertilizer Removal By Crop : 50,000+\n",
      "A-J Media Vault : 50+\n",
      "Al-Quran (Free) : 10,000,000+\n",
      "Al Quran (Tafsir & by Word) : 500,000+\n",
      "Al Quran Indonesia : 10,000,000+\n",
      "Al'Quran Bahasa Indonesia : 10,000,000+\n",
      "Al Quran Al karim : 1,000,000+\n",
      "Al-Muhaffiz : 50,000+\n",
      "Al Quran : EAlim - Translations & MP3 Offline : 5,000,000+\n",
      "Al-Quran 30 Juz free copies : 500,000+\n",
      "Koran Read &MP3 30 Juz Offline : 1,000,000+\n",
      "Hafizi Quran 15 lines per page : 1,000,000+\n",
      "Quran for Android : 10,000,000+\n",
      "Surah Al-Waqiah : 100,000+\n",
      "Hisnul Al Muslim - Hisn Invocations & Adhkaar : 100,000+\n",
      "Satellite AR : 1,000,000+\n",
      "Audiobooks from Audible : 100,000,000+\n",
      "Kinot & Eichah for Tisha B'Av : 10,000+\n",
      "AW Tozer Devotionals - Daily : 5,000+\n",
      "Tozer Devotional -Series 1 : 1,000+\n",
      "The Pursuit of God : 1,000+\n",
      "AY Sing : 5,000+\n",
      "Ay Hasnain k Nana Milad Naat : 10,000+\n",
      "Ay Mohabbat Teri Khatir Novel : 10,000+\n",
      "Arizona Statutes, ARS (AZ Law) : 1,000+\n",
      "Oxford A-Z of English Usage : 1,000,000+\n",
      "BD Fishpedia : 1,000+\n",
      "BD All Sim Offer : 10,000+\n",
      "Youboox - Livres, BD et magazines : 500,000+\n",
      "B&H Kids AR : 10,000+\n",
      "B y H Niños ES : 5,000+\n",
      "Dictionary.com: Find Definitions for English Words : 10,000,000+\n",
      "English Dictionary - Offline : 10,000,000+\n",
      "Bible KJV : 5,000,000+\n",
      "Borneo Bible, BM Bible : 10,000+\n",
      "MOD Black for BM : 100+\n",
      "BM Box : 1,000+\n",
      "Anime Mod for BM : 100+\n",
      "NOOK: Read eBooks & Magazines : 10,000,000+\n",
      "NOOK Audiobooks : 500,000+\n",
      "NOOK App for NOOK Devices : 500,000+\n",
      "Browsery by Barnes & Noble : 5,000+\n",
      "bp e-store : 1,000+\n",
      "Brilliant Quotes: Life, Love, Family & Motivation : 1,000,000+\n",
      "BR Ambedkar Biography & Quotes : 10,000+\n",
      "BU Alsace : 100+\n",
      "Catholic La Bu Zo Kam : 500+\n",
      "Khrifa Hla Bu (Solfa) : 10+\n",
      "Kristian Hla Bu : 10,000+\n",
      "SA HLA BU : 1,000+\n",
      "Learn SAP BW : 500+\n",
      "Learn SAP BW on HANA : 500+\n",
      "CA Laws 2018 (California Laws and Codes) : 5,000+\n",
      "Bootable Methods(USB-CD-DVD) : 10,000+\n",
      "cloudLibrary : 100,000+\n",
      "SDA Collegiate Quarterly : 500+\n",
      "Sabbath School : 100,000+\n",
      "Cypress College Library : 100+\n",
      "Stats Royale for Clash Royale : 1,000,000+\n",
      "GATE 21 years CS Papers(2011-2018 Solved) : 50+\n",
      "Learn CT Scan Of Head : 5,000+\n",
      "Easy Cv maker 2018 : 10,000+\n",
      "How to Write CV : 100,000+\n",
      "CW Nuclear : 1,000+\n",
      "CY Spray nozzle : 10+\n",
      "BibleRead En Cy Zh Yue : 5+\n",
      "CZ-Help : 5+\n",
      "Modlitební knížka CZ : 500+\n",
      "Guide for DB Xenoverse : 10,000+\n",
      "Guide for DB Xenoverse 2 : 10,000+\n",
      "Guide for IMS DB : 10+\n",
      "DC HSEMA : 5,000+\n",
      "DC Public Library : 1,000+\n",
      "Painting Lulu DC Super Friends : 1,000+\n",
      "Dictionary : 10,000,000+\n",
      "Fix Error Google Playstore : 1,000+\n",
      "D. H. Lawrence Poems FREE : 1,000+\n",
      "Bilingual Dictionary Audio App : 5,000+\n",
      "DM Screen : 10,000+\n",
      "wikiHow: how to do anything : 1,000,000+\n",
      "Dr. Doug's Tips : 1,000+\n",
      "Bible du Semeur-BDS (French) : 50,000+\n",
      "La citadelle du musulman : 50,000+\n",
      "DV 2019 Entry Guide : 10,000+\n",
      "DV 2019 - EDV Photo & Form : 50,000+\n",
      "DV 2018 Winners Guide : 1,000+\n",
      "EB Annual Meetings : 1,000+\n",
      "EC - AP & Telangana : 5,000+\n",
      "TN Patta Citta & EC : 10,000+\n",
      "AP Stamps and Registration : 10,000+\n",
      "CompactiMa EC pH Calibration : 100+\n",
      "EGW Writings 2 : 100,000+\n",
      "EGW Writings : 1,000,000+\n",
      "Bible with EGW Comments : 100,000+\n",
      "My Little Pony AR Guide : 1,000,000+\n",
      "SDA Sabbath School Quarterly : 500,000+\n",
      "Duaa Ek Ibaadat : 5,000+\n",
      "Spanish English Translator : 10,000,000+\n",
      "Dictionary - Merriam-Webster : 10,000,000+\n",
      "JW Library : 10,000,000+\n",
      "Oxford Dictionary of English : Free : 10,000,000+\n",
      "English Hindi Dictionary : 10,000,000+\n",
      "English to Hindi Dictionary : 5,000,000+\n",
      "EP Research Service : 1,000+\n",
      "Hymnes et Louanges : 100,000+\n",
      "EU Charter : 1,000+\n",
      "EU Data Protection : 1,000+\n",
      "EU IP Codes : 100+\n",
      "EW PDF : 5+\n",
      "BakaReader EX : 100,000+\n",
      "EZ Quran : 50,000+\n",
      "FA Part 1 & 2 Past Papers Solved Free – Offline : 5,000+\n",
      "La Fe de Jesus : 1,000+\n",
      "La Fe de Jesús : 500+\n",
      "Le Fe de Jesus : 500+\n",
      "Florida - Pocket Brainbook : 1,000+\n",
      "Florida Statutes (FL Code) : 1,000+\n",
      "English To Shona Dictionary : 10,000+\n",
      "Greek Bible FP (Audio) : 1,000+\n",
      "Golden Dictionary (FR-AR) : 500,000+\n",
      "Fanfic-FR : 5,000+\n",
      "Bulgarian French Dictionary Fr : 10,000+\n",
      "Chemin (fr) : 1,000+\n",
      "The SCP Foundation DB fr nn5n : 1,000+\n"
     ]
    }
   ],
   "source": [
    "\n",
    "for app in android_final:\n",
    "    if app[1] == 'BOOKS_AND_REFERENCE':\n",
    "        print(app[0], ':', app[5])"
   ]
  },
  {
   "cell_type": "code",
   "execution_count": 70,
   "metadata": {},
   "outputs": [
    {
     "name": "stdout",
     "output_type": "stream",
     "text": [
      "Google Play Books : 1,000,000,000+\n",
      "Bible : 100,000,000+\n",
      "Amazon Kindle : 100,000,000+\n",
      "Wattpad 📖 Free Books : 100,000,000+\n",
      "Audiobooks from Audible : 100,000,000+\n"
     ]
    }
   ],
   "source": [
    "\n",
    "for app in android_final:\n",
    "    if app[1] == 'BOOKS_AND_REFERENCE' and (app[5] == '1,000,000,000+'\n",
    "                                            or app[5] == '500,000,000+'\n",
    "                                            or app[5] == '100,000,000+'):\n",
    "        print(app[0], ':', app[5])"
   ]
  },
  {
   "cell_type": "markdown",
   "metadata": {},
   "source": [
    "There also seem to be a very large player in the Book and Reference area. This include a variety of apps: software for processing and reading ebooks, various collections of libraries, dictionaries, tutorials on programming or languages."
   ]
  },
  {
   "cell_type": "code",
   "execution_count": 71,
   "metadata": {},
   "outputs": [
    {
     "name": "stdout",
     "output_type": "stream",
     "text": [
      "Wikipedia : 10,000,000+\n",
      "Cool Reader : 10,000,000+\n",
      "Book store : 1,000,000+\n",
      "FBReader: Favorite Book Reader : 10,000,000+\n",
      "Free Books - Spirit Fanfiction and Stories : 1,000,000+\n",
      "AlReader -any text book reader : 5,000,000+\n",
      "FamilySearch Tree : 1,000,000+\n",
      "Cloud of Books : 1,000,000+\n",
      "ReadEra – free ebook reader : 1,000,000+\n",
      "Ebook Reader : 5,000,000+\n",
      "Read books online : 5,000,000+\n",
      "eBoox: book reader fb2 epub zip : 1,000,000+\n",
      "All Maths Formulas : 1,000,000+\n",
      "Ancestry : 5,000,000+\n",
      "HTC Help : 10,000,000+\n",
      "Moon+ Reader : 10,000,000+\n",
      "English-Myanmar Dictionary : 1,000,000+\n",
      "Golden Dictionary (EN-AR) : 1,000,000+\n",
      "All Language Translator Free : 1,000,000+\n",
      "Aldiko Book Reader : 10,000,000+\n",
      "Dictionary - WordWeb : 5,000,000+\n",
      "50000 Free eBooks & Free AudioBooks : 5,000,000+\n",
      "Al-Quran (Free) : 10,000,000+\n",
      "Al Quran Indonesia : 10,000,000+\n",
      "Al'Quran Bahasa Indonesia : 10,000,000+\n",
      "Al Quran Al karim : 1,000,000+\n",
      "Al Quran : EAlim - Translations & MP3 Offline : 5,000,000+\n",
      "Koran Read &MP3 30 Juz Offline : 1,000,000+\n",
      "Hafizi Quran 15 lines per page : 1,000,000+\n",
      "Quran for Android : 10,000,000+\n",
      "Satellite AR : 1,000,000+\n",
      "Oxford A-Z of English Usage : 1,000,000+\n",
      "Dictionary.com: Find Definitions for English Words : 10,000,000+\n",
      "English Dictionary - Offline : 10,000,000+\n",
      "Bible KJV : 5,000,000+\n",
      "NOOK: Read eBooks & Magazines : 10,000,000+\n",
      "Brilliant Quotes: Life, Love, Family & Motivation : 1,000,000+\n",
      "Stats Royale for Clash Royale : 1,000,000+\n",
      "Dictionary : 10,000,000+\n",
      "wikiHow: how to do anything : 1,000,000+\n",
      "EGW Writings : 1,000,000+\n",
      "My Little Pony AR Guide : 1,000,000+\n",
      "Spanish English Translator : 10,000,000+\n",
      "Dictionary - Merriam-Webster : 10,000,000+\n",
      "JW Library : 10,000,000+\n",
      "Oxford Dictionary of English : Free : 10,000,000+\n",
      "English Hindi Dictionary : 10,000,000+\n",
      "English to Hindi Dictionary : 5,000,000+\n"
     ]
    }
   ],
   "source": [
    "for app in android_final:\n",
    "    if app[1] == 'BOOKS_AND_REFERENCE' and (app[5] == '1,000,000+'\n",
    "                                            or app[5] == '5,000,000+'\n",
    "                                            or app[5] == '10,000,000+'\n",
    "                                            or app[5] == '50,000,000+'):\n",
    "        print(app[0], ':', app[5])"
   ]
  },
  {
   "cell_type": "markdown",
   "metadata": {},
   "source": [
    "After looking at the lower braket of the Book and Reference we can tell that there still alot of room to growth for this cartagory and some idea might be creating an app around a popular book that happing that time and ride the wave with it. \\\n"
   ]
  },
  {
   "cell_type": "code",
   "execution_count": null,
   "metadata": {},
   "outputs": [],
   "source": []
  }
 ],
 "metadata": {
  "kernelspec": {
   "display_name": "Python 3",
   "language": "python",
   "name": "python3"
  },
  "language_info": {
   "codemirror_mode": {
    "name": "ipython",
    "version": 3
   },
   "file_extension": ".py",
   "mimetype": "text/x-python",
   "name": "python",
   "nbconvert_exporter": "python",
   "pygments_lexer": "ipython3",
   "version": "3.6.5"
  }
 },
 "nbformat": 4,
 "nbformat_minor": 2
}
